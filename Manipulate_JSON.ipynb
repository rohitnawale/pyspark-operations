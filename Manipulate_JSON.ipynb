{
 "cells": [
  {
   "cell_type": "markdown",
   "metadata": {},
   "source": [
    "# Pyspark operations on a json file"
   ]
  },
  {
   "cell_type": "code",
   "execution_count": 1,
   "metadata": {
    "tags": []
   },
   "outputs": [
    {
     "output_type": "stream",
     "name": "stdout",
     "text": "root\n |-- _links: struct (nullable = true)\n |    |-- nextepisode: struct (nullable = true)\n |    |    |-- href: string (nullable = true)\n |    |-- previousepisode: struct (nullable = true)\n |    |    |-- href: string (nullable = true)\n |    |-- self: struct (nullable = true)\n |    |    |-- href: string (nullable = true)\n |-- externals: struct (nullable = true)\n |    |-- imdb: string (nullable = true)\n |    |-- thetvdb: long (nullable = true)\n |    |-- tvrage: long (nullable = true)\n |-- genres: array (nullable = true)\n |    |-- element: string (containsNull = true)\n |-- id: long (nullable = true)\n |-- image: struct (nullable = true)\n |    |-- medium: string (nullable = true)\n |    |-- original: string (nullable = true)\n |-- language: string (nullable = true)\n |-- name: string (nullable = true)\n |-- network: struct (nullable = true)\n |    |-- country: struct (nullable = true)\n |    |    |-- code: string (nullable = true)\n |    |    |-- name: string (nullable = true)\n |    |    |-- timezone: string (nullable = true)\n |    |-- id: long (nullable = true)\n |    |-- name: string (nullable = true)\n |-- officialSite: string (nullable = true)\n |-- premiered: string (nullable = true)\n |-- rating: struct (nullable = true)\n |    |-- average: double (nullable = true)\n |-- runtime: long (nullable = true)\n |-- schedule: struct (nullable = true)\n |    |-- days: array (nullable = true)\n |    |    |-- element: string (containsNull = true)\n |    |-- time: string (nullable = true)\n |-- status: string (nullable = true)\n |-- summary: string (nullable = true)\n |-- type: string (nullable = true)\n |-- updated: long (nullable = true)\n |-- url: string (nullable = true)\n |-- webChannel: struct (nullable = true)\n |    |-- country: struct (nullable = true)\n |    |    |-- code: string (nullable = true)\n |    |    |-- name: string (nullable = true)\n |    |    |-- timezone: string (nullable = true)\n |    |-- id: long (nullable = true)\n |    |-- name: string (nullable = true)\n |-- weight: long (nullable = true)\n\n"
    }
   ],
   "source": [
    "import findspark\n",
    "findspark.init('C:\\\\Spark\\\\spark-3.0.0-bin-hadoop2.7')\n",
    "import pyspark\n",
    "from pyspark.sql import SparkSession\n",
    "from pyspark.sql.functions import isnan, when, count, col, translate\n",
    "spark = SparkSession.builder.appName(\"Manipulate_JSON\").getOrCreate()\n",
    "sc = spark.sparkContext\n",
    "# the '4' in the argument. It denotes 4 cores to be used for this SparkContext object\n",
    "# sc=SparkContext(master=\"local[4]\")\n",
    "\n",
    "path = \"Data/tv-shows.json\"\n",
    "tvshowDF = spark.read.json(path)\n",
    "\n",
    "# The inferred schema can be visualized using the printSchema() method\n",
    "tvshowDF.printSchema()"
   ]
  },
  {
   "cell_type": "markdown",
   "metadata": {},
   "source": [
    "## Print the schema"
   ]
  },
  {
   "cell_type": "code",
   "execution_count": 2,
   "metadata": {
    "tags": []
   },
   "outputs": [
    {
     "output_type": "stream",
     "name": "stdout",
     "text": "+--------------------+--------------------+--------------------+---+--------------------+--------+------------------+--------------------+--------------------+----------+------+-------+--------------------+-------+--------------------+--------+----------+--------------------+----------+------+\n|              _links|           externals|              genres| id|               image|language|              name|             network|        officialSite| premiered|rating|runtime|            schedule| status|             summary|    type|   updated|                 url|webChannel|weight|\n+--------------------+--------------------+--------------------+---+--------------------+--------+------------------+--------------------+--------------------+----------+------+-------+--------------------+-------+--------------------+--------+----------+--------------------+----------+------+\n|[, [http://api.tv...|[tt1553656, 26449...|[Drama, Science-F...|  1|[http://static.tv...| English|    Under the Dome|[[US, United Stat...|http://www.cbs.co...|2013-06-24| [6.5]|     60| [[Thursday], 22:00]|  Ended|<p><b>Under the D...|Scripted|1529612668|http://www.tvmaze...|      null|    91|\n|[, [http://api.tv...|[tt1839578, 24874...|[Drama, Action, C...|  2|[http://static.tv...| English|Person of Interest|[[US, United Stat...|http://www.cbs.co...|2011-09-22| [9.0]|     60|  [[Tuesday], 22:00]|  Ended|<p>You are being ...|Scripted|1535507028|http://www.tvmaze...|      null|    96|\n|[, [http://api.tv...|[tt2365946, 26955...|[Drama, Horror, R...|  3|[http://static.tv...| English|            Bitten|[[CA, Canada, Ame...|http://bitten.spa...|2014-01-11| [7.6]|     60|   [[Friday], 22:00]|  Ended|<p>Based on the c...|Scripted|1534079818|http://www.tvmaze...|      null|    75|\n|[[http://api.tvma...|[tt2193021, 25765...|[Drama, Action, S...|  4|[http://static.tv...| English|             Arrow|[[US, United Stat...|http://www.cwtv.c...|2012-10-10| [7.6]|     60|   [[Monday], 20:00]|Running|<p>After a violen...|Scripted|1536062117|http://www.tvmaze...|      null|    99|\n|[[http://api.tvma...|[tt2356777, 27063...|[Drama, Crime, Th...|  5|[http://static.tv...| English|    True Detective|[[US, United Stat...|http://www.hbo.co...|2014-01-12| [8.3]|     60|   [[Sunday], 21:00]|Running|<p>Touch darkness...|Scripted|1536053668|http://www.tvmaze...|      null|    99|\n|[, [http://api.tv...|[tt2661044, 26859...|[Action, Adventur...|  6|[http://static.tv...| English|           The 100|[[US, United Stat...|http://www.cwtv.c...|2014-03-19| [7.9]|     60|  [[Tuesday], 20:00]|Running|<p>Ninety-seven y...|Scripted|1535298845|http://www.tvmaze...|      null|   100|\n|[, [http://api.tv...|[tt1796960, 24789...|[Drama, Thriller,...|  7|[http://static.tv...| English|          Homeland|[[US, United Stat...|http://www.sho.co...|2011-10-02| [8.3]|     60|   [[Sunday], 21:00]|Running|<p>The winner of ...|Scripted|1533619895|http://www.tvmaze...|      null|    98|\n|[, [http://api.tv...|[tt1327801, 83610...|[Drama, Music, Ro...|  8|[http://static.tv...| English|              Glee|[[US, United Stat...|http://www.fox.co...|2009-05-19| [6.7]|     60|  [[Tuesday], 21:00]|  Ended|<p><b>Glee </b>is...|Scripted|1536145055|http://www.tvmaze...|      null|    71|\n|[, [http://api.tv...|[tt1837642, 24883...|[Drama, Thriller,...|  9|[http://static.tv...| English|           Revenge|[[US, United Stat...|                null|2011-09-21| [8.0]|     60|   [[Sunday], 22:00]|  Ended|<p>This is not a ...|Scripted|1535975199|http://www.tvmaze...|      null|    87|\n|[, [http://api.tv...|[tt1830617, 24873...|[Drama, Crime, Su...| 10|[http://static.tv...| English|             Grimm|[[US, United Stat...|http://www.nbc.co...|2011-10-28| [8.5]|     60|   [[Friday], 20:00]|  Ended|<p><b>Grimm </b>i...|Scripted|1531998068|http://www.tvmaze...|      null|    95|\n|[[http://api.tvma...|[tt3749900, 27443...|[Drama, Action, C...| 11|[http://static.tv...| English|            Gotham|[[US, United Stat...|http://www.fox.co...|2014-09-22| [7.8]|     60| [[Thursday], 20:00]|Running|<p>The good. The ...|Scripted|1536171775|http://www.tvmaze...|      null|    99|\n|[, [http://api.tv...|[tt1429449, 18206...|[Drama, Fantasy, ...| 12|[http://static.tv...| English|         Lost Girl|[[CA, Canada, Ame...|http://www.showca...|2010-09-12| [8.0]|     60|   [[Sunday], 22:00]|  Ended|<p><b>Lost Girl</...|Scripted|1534079929|http://www.tvmaze...|      null|    91|\n|[[http://api.tvma...|[tt3107288, 27912...|[Drama, Action, S...| 13|[http://static.tv...| English|         The Flash|[[US, United Stat...|http://www.cwtv.c...|2014-10-07| [8.1]|     60|  [[Tuesday], 20:00]|Running|<p>After a partic...|Scripted|1535545468|http://www.tvmaze...|      null|    99|\n|[, [http://api.tv...|[tt1954347, 25817...|[Drama, Crime, Sc...| 14|[http://static.tv...| English|         Continuum|[[CA, Canada, Ame...|http://www.showca...|2012-05-27| [8.2]|     60|   [[Sunday], 21:00]|  Ended|<p><b>Continuum <...|Scripted|1536247355|http://www.tvmaze...|      null|    84|\n|[, [http://api.tv...|[tt3489184, 27369...|[Drama, Action, H...| 15|[http://static.tv...| English|       Constantine|[[US, United Stat...|https://www.nbc.c...|2014-10-24| [7.4]|     60|   [[Friday], 20:00]|  Ended|<p>Based on the w...|Scripted|1516808973|http://www.tvmaze...|      null|    87|\n|[, [http://api.tv...|[tt2628232, 26576...|[Drama, Horror, T...| 16|[http://static.tv...| English|    Penny Dreadful|[[US, United Stat...|http://www.sho.co...|2014-05-11| [8.3]|     60|   [[Sunday], 21:00]|  Ended|<p>Some of litera...|Scripted|1536427994|http://www.tvmaze...|      null|    84|\n|[, [http://api.tv...|[tt0285335, 77666...|[Action, Adventur...| 18|[http://static.tv...| English|  The Amazing Race|[[US, United Stat...|http://www.cbs.co...|2001-09-05| [7.5]|     60|[[Wednesday], 20:00]|Running|<p><b>The Amazing...| Reality|1532342006|http://www.tvmaze...|      null|    89|\n|[[http://api.tvma...|[tt0460681, 78901...|[Drama, Action, S...| 19|[http://static.tv...| English|      Supernatural|[[US, United Stat...|http://www.cwtv.c...|2005-09-13| [8.4]|     60| [[Thursday], 20:00]|Running|<p>The show follo...|Scripted|1536045363|http://www.tvmaze...|      null|    99|\n|[, [http://api.tv...|[tt2654620, 27656...|[Drama, Horror, T...| 20|[http://static.tv...| English|        The Strain|[[US, United Stat...|http://www.fxnetw...|2014-07-13| [7.6]|     60|   [[Sunday], 22:00]|  Ended|<p><b>The Strain<...|Scripted|1536276977|http://www.tvmaze...|      null|    90|\n|[[http://api.tvma...|[tt2402207, 26953...|[Drama, Action, T...| 21|[http://static.tv...| English|     The Last Ship|[[US, United Stat...|http://www.tntdra...|2014-06-22| [7.8]|     60|   [[Sunday], 21:00]|Running|<p>Their mission ...|Scripted|1536575637|http://www.tvmaze...|      null|   100|\n+--------------------+--------------------+--------------------+---+--------------------+--------+------------------+--------------------+--------------------+----------+------+-------+--------------------+-------+--------------------+--------+----------+--------------------+----------+------+\nonly showing top 20 rows\n\n"
    }
   ],
   "source": [
    "tvshowDF.show() #to show all data in data frame"
   ]
  },
  {
   "cell_type": "markdown",
   "metadata": {},
   "source": [
    "## Data Cleaning\n",
    "\n",
    "### Find null vaules column wise in dataframe"
   ]
  },
  {
   "cell_type": "code",
   "execution_count": 3,
   "metadata": {
    "tags": []
   },
   "outputs": [
    {
     "output_type": "stream",
     "name": "stdout",
     "text": "+------+---------+------+---+-----+--------+----+-------+------------+---------+------+-------+--------+------+-------+----+-------+---+----------+------+\n|_links|externals|genres| id|image|language|name|network|officialSite|premiered|rating|runtime|schedule|status|summary|type|updated|url|webChannel|weight|\n+------+---------+------+---+-----+--------+----+-------+------------+---------+------+-------+--------+------+-------+----+-------+---+----------+------+\n|     0|        0|     0|  0|    0|       0|   0|      7|          74|        0|     0|      0|       0|     0|      0|   0|      0|  0|       230|     0|\n+------+---------+------+---+-----+--------+----+-------+------------+---------+------+-------+--------+------+-------+----+-------+---+----------+------+\n\n"
    },
    {
     "output_type": "execute_result",
     "data": {
      "text/plain": "20"
     },
     "metadata": {},
     "execution_count": 3
    }
   ],
   "source": [
    "tvshowDF.select([count(when(col(c).isNull(), c)).alias(c) for c in tvshowDF.columns]).show()\n",
    "len(tvshowDF.columns)\n",
    "#The code above check for the existence of null value for every columns and count its frequency and then display it in a tabulated format as below."
   ]
  },
  {
   "cell_type": "markdown",
   "metadata": {},
   "source": [
    "## drop columns which are not required"
   ]
  },
  {
   "cell_type": "code",
   "execution_count": 4,
   "metadata": {
    "tags": []
   },
   "outputs": [],
   "source": [
    "\n",
    "tvshowDF = tvshowDF.drop('webChannel')\n",
    "tvshowDF = tvshowDF.drop('officialSite')"
   ]
  },
  {
   "cell_type": "code",
   "execution_count": 5,
   "metadata": {
    "tags": []
   },
   "outputs": [
    {
     "output_type": "stream",
     "name": "stdout",
     "text": "+------+---------+------+---+-----+--------+----+-------+---------+------+-------+--------+------+-------+----+-------+---+------+\n|_links|externals|genres| id|image|language|name|network|premiered|rating|runtime|schedule|status|summary|type|updated|url|weight|\n+------+---------+------+---+-----+--------+----+-------+---------+------+-------+--------+------+-------+----+-------+---+------+\n|     0|        0|     0|  0|    0|       0|   0|      7|        0|     0|      0|       0|     0|      0|   0|      0|  0|     0|\n+------+---------+------+---+-----+--------+----+-------+---------+------+-------+--------+------+-------+----+-------+---+------+\n\n"
    },
    {
     "output_type": "execute_result",
     "data": {
      "text/plain": "18"
     },
     "metadata": {},
     "execution_count": 5
    }
   ],
   "source": [
    "tvshowDF.select([count(when(col(c).isNull(), c)).alias(c) for c in tvshowDF.columns]).show()\n",
    "len(tvshowDF.columns)"
   ]
  },
  {
   "cell_type": "code",
   "execution_count": 6,
   "metadata": {},
   "outputs": [],
   "source": [
    "# drop rows with missing or null values\n",
    "tvshowDF = tvshowDF.dropna(how='any')"
   ]
  },
  {
   "cell_type": "markdown",
   "metadata": {},
   "source": [
    " ## to get details of currently running or ended shows"
   ]
  },
  {
   "cell_type": "code",
   "execution_count": 7,
   "metadata": {
    "tags": []
   },
   "outputs": [
    {
     "output_type": "stream",
     "name": "stdout",
     "text": "+-------+-----+\n| status|count|\n+-------+-----+\n|Running|   58|\n|  Ended|  175|\n+-------+-----+\n\n"
    }
   ],
   "source": [
    "tvshowDF.groupBy(\"status\").count().show()"
   ]
  },
  {
   "cell_type": "markdown",
   "metadata": {},
   "source": [
    "## fetching all shows with average rating more than 9"
   ]
  },
  {
   "cell_type": "code",
   "execution_count": 8,
   "metadata": {},
   "outputs": [],
   "source": [
    "high_ratedshowDF=tvshowDF.filter(tvshowDF['rating.average']>9) "
   ]
  },
  {
   "cell_type": "code",
   "execution_count": 9,
   "metadata": {
    "tags": []
   },
   "outputs": [
    {
     "output_type": "stream",
     "name": "stdout",
     "text": "+--------------------+--------------------+--------------------+---+--------------------+--------+---------------+--------------------+----------+------+-------+-----------------+-------+--------------------+---------+----------+--------------------+------+\n|              _links|           externals|              genres| id|               image|language|           name|             network| premiered|rating|runtime|         schedule| status|             summary|     type|   updated|                 url|weight|\n+--------------------+--------------------+--------------------+---+--------------------+--------+---------------+--------------------+----------+------+-------+-----------------+-------+--------------------+---------+----------+--------------------+------+\n|[, [http://api.tv...|[tt0318871, 73752...|[Anime, Fantasy, ...| 27|[http://static.tv...|Japanese|        Berserk|[[JP, Japan, Asia...|1997-10-07| [9.2]|     25|    [[Tuesday], ]|  Ended|<p><b>Berserk </b...|Animation|1504676900|http://www.tvmaze...|    58|\n|[, [http://api.tv...|[tt0944947, 12136...|[Drama, Adventure...| 82|[http://static.tv...| English|Game of Thrones|[[US, United Stat...|2011-04-17| [9.4]|     60|[[Sunday], 21:00]|Running|<p>Based on the b...| Scripted|1532947493|http://www.tvmaze...|    99|\n|[, [http://api.tv...|[tt0903747, 81189...|[Drama, Crime, Th...|169|[http://static.tv...| English|   Breaking Bad|[[US, United Stat...|2008-01-20| [9.3]|     60|[[Sunday], 22:00]|  Ended|<p><b>Breaking Ba...| Scripted|1534515563|http://www.tvmaze...|    94|\n|[, [http://api.tv...|[tt0306414, 79126...|      [Drama, Crime]|179|[http://static.tv...| English|       The Wire|[[US, United Stat...|2002-06-02| [9.3]|     60|[[Sunday], 21:00]|  Ended|<p>The first seas...| Scripted|1532876277|http://www.tvmaze...|    94|\n|[, [http://api.tv...|[tt0303461, 78874...|[Adventure, Scien...|180|[http://static.tv...| English|        Firefly|[[US, United Stat...|2002-09-20| [9.3]|     60|[[Friday], 20:00]|  Ended|<p>Five hundred y...| Scripted|1535812190|http://www.tvmaze...|    90|\n|[, [http://api.tv...|[tt0118480, 72449...|[Action, Adventur...|204|[http://static.tv...| English|  Stargate SG-1|[[US, United Stat...|1997-07-27| [9.3]|     60|[[Friday], 20:00]|  Ended|<p><b>Stargate SG...| Scripted|1533412426|http://www.tvmaze...|    93|\n|[, [http://api.tv...|[tt2861424, 27527...|[Comedy, Adventur...|216|[http://static.tv...| English| Rick and Morty|[[US, United Stat...|2013-12-02| [9.4]|     30|[[Sunday], 23:30]|Running|<p>Rick is a ment...|Animation|1533638739|http://www.tvmaze...|    92|\n+--------------------+--------------------+--------------------+---+--------------------+--------+---------------+--------------------+----------+------+-------+-----------------+-------+--------------------+---------+----------+--------------------+------+\n\n"
    }
   ],
   "source": [
    "high_ratedshowDF.show() # printing all shows with rating >9"
   ]
  },
  {
   "cell_type": "code",
   "execution_count": 10,
   "metadata": {},
   "outputs": [
    {
     "output_type": "execute_result",
     "data": {
      "text/plain": "7"
     },
     "metadata": {},
     "execution_count": 10
    }
   ],
   "source": [
    "high_ratedshowDF.count() # counting high rated shows"
   ]
  },
  {
   "cell_type": "markdown",
   "metadata": {},
   "source": [
    "## listing name of all high rated shows"
   ]
  },
  {
   "cell_type": "code",
   "execution_count": 11,
   "metadata": {
    "tags": []
   },
   "outputs": [
    {
     "output_type": "stream",
     "name": "stdout",
     "text": "+---------------+\n|           name|\n+---------------+\n|        Berserk|\n|Game of Thrones|\n|   Breaking Bad|\n|       The Wire|\n|        Firefly|\n|  Stargate SG-1|\n| Rick and Morty|\n+---------------+\n\n"
    }
   ],
   "source": [
    "high_ratedshowDF.select('name').show() \n"
   ]
  },
  {
   "cell_type": "markdown",
   "metadata": {},
   "source": [
    "## creates a file in local machine of format parquet"
   ]
  },
  {
   "cell_type": "code",
   "execution_count": 12,
   "metadata": {},
   "outputs": [
    {
     "output_type": "error",
     "ename": "Py4JJavaError",
     "evalue": "An error occurred while calling o253.save.\n: org.apache.spark.SparkException: Job aborted.\r\n\tat org.apache.spark.sql.execution.datasources.FileFormatWriter$.write(FileFormatWriter.scala:226)\r\n\tat org.apache.spark.sql.execution.datasources.InsertIntoHadoopFsRelationCommand.run(InsertIntoHadoopFsRelationCommand.scala:178)\r\n\tat org.apache.spark.sql.execution.command.DataWritingCommandExec.sideEffectResult$lzycompute(commands.scala:108)\r\n\tat org.apache.spark.sql.execution.command.DataWritingCommandExec.sideEffectResult(commands.scala:106)\r\n\tat org.apache.spark.sql.execution.command.DataWritingCommandExec.doExecute(commands.scala:131)\r\n\tat org.apache.spark.sql.execution.SparkPlan.$anonfun$execute$1(SparkPlan.scala:175)\r\n\tat org.apache.spark.sql.execution.SparkPlan.$anonfun$executeQuery$1(SparkPlan.scala:213)\r\n\tat org.apache.spark.rdd.RDDOperationScope$.withScope(RDDOperationScope.scala:151)\r\n\tat org.apache.spark.sql.execution.SparkPlan.executeQuery(SparkPlan.scala:210)\r\n\tat org.apache.spark.sql.execution.SparkPlan.execute(SparkPlan.scala:171)\r\n\tat org.apache.spark.sql.execution.QueryExecution.toRdd$lzycompute(QueryExecution.scala:122)\r\n\tat org.apache.spark.sql.execution.QueryExecution.toRdd(QueryExecution.scala:121)\r\n\tat org.apache.spark.sql.DataFrameWriter.$anonfun$runCommand$1(DataFrameWriter.scala:944)\r\n\tat org.apache.spark.sql.execution.SQLExecution$.$anonfun$withNewExecutionId$5(SQLExecution.scala:100)\r\n\tat org.apache.spark.sql.execution.SQLExecution$.withSQLConfPropagated(SQLExecution.scala:160)\r\n\tat org.apache.spark.sql.execution.SQLExecution$.$anonfun$withNewExecutionId$1(SQLExecution.scala:87)\r\n\tat org.apache.spark.sql.SparkSession.withActive(SparkSession.scala:763)\r\n\tat org.apache.spark.sql.execution.SQLExecution$.withNewExecutionId(SQLExecution.scala:64)\r\n\tat org.apache.spark.sql.DataFrameWriter.runCommand(DataFrameWriter.scala:944)\r\n\tat org.apache.spark.sql.DataFrameWriter.saveToV1Source(DataFrameWriter.scala:396)\r\n\tat org.apache.spark.sql.DataFrameWriter.save(DataFrameWriter.scala:380)\r\n\tat org.apache.spark.sql.DataFrameWriter.save(DataFrameWriter.scala:269)\r\n\tat sun.reflect.NativeMethodAccessorImpl.invoke0(Native Method)\r\n\tat sun.reflect.NativeMethodAccessorImpl.invoke(Unknown Source)\r\n\tat sun.reflect.DelegatingMethodAccessorImpl.invoke(Unknown Source)\r\n\tat java.lang.reflect.Method.invoke(Unknown Source)\r\n\tat py4j.reflection.MethodInvoker.invoke(MethodInvoker.java:244)\r\n\tat py4j.reflection.ReflectionEngine.invoke(ReflectionEngine.java:357)\r\n\tat py4j.Gateway.invoke(Gateway.java:282)\r\n\tat py4j.commands.AbstractCommand.invokeMethod(AbstractCommand.java:132)\r\n\tat py4j.commands.CallCommand.execute(CallCommand.java:79)\r\n\tat py4j.GatewayConnection.run(GatewayConnection.java:238)\r\n\tat java.lang.Thread.run(Unknown Source)\r\nCaused by: org.apache.spark.SparkException: Job aborted due to stage failure: Task 0 in stage 20.0 failed 1 times, most recent failure: Lost task 0.0 in stage 20.0 (TID 211, LAPTOP-RBJJRMS1, executor driver): java.io.IOException: (null) entry in command string: null chmod 0644 E:\\Xpanxion\\python\\Pyspark\\NamesAndRatings.parquet\\_temporary\\0\\_temporary\\attempt_20200709193550_0020_m_000000_211\\part-00000-910b78dc-0c5a-42e3-8645-73022b191e46-c000.snappy.parquet\r\n\tat org.apache.hadoop.util.Shell$ShellCommandExecutor.execute(Shell.java:773)\r\n\tat org.apache.hadoop.util.Shell.execCommand(Shell.java:869)\r\n\tat org.apache.hadoop.util.Shell.execCommand(Shell.java:852)\r\n\tat org.apache.hadoop.fs.RawLocalFileSystem.setPermission(RawLocalFileSystem.java:733)\r\n\tat org.apache.hadoop.fs.RawLocalFileSystem$LocalFSFileOutputStream.<init>(RawLocalFileSystem.java:225)\r\n\tat org.apache.hadoop.fs.RawLocalFileSystem$LocalFSFileOutputStream.<init>(RawLocalFileSystem.java:209)\r\n\tat org.apache.hadoop.fs.RawLocalFileSystem.createOutputStreamWithMode(RawLocalFileSystem.java:307)\r\n\tat org.apache.hadoop.fs.RawLocalFileSystem.create(RawLocalFileSystem.java:296)\r\n\tat org.apache.hadoop.fs.RawLocalFileSystem.create(RawLocalFileSystem.java:328)\r\n\tat org.apache.hadoop.fs.ChecksumFileSystem$ChecksumFSOutputSummer.<init>(ChecksumFileSystem.java:398)\r\n\tat org.apache.hadoop.fs.ChecksumFileSystem.create(ChecksumFileSystem.java:461)\r\n\tat org.apache.hadoop.fs.ChecksumFileSystem.create(ChecksumFileSystem.java:440)\r\n\tat org.apache.hadoop.fs.FileSystem.create(FileSystem.java:911)\r\n\tat org.apache.hadoop.fs.FileSystem.create(FileSystem.java:892)\r\n\tat org.apache.parquet.hadoop.util.HadoopOutputFile.create(HadoopOutputFile.java:74)\r\n\tat org.apache.parquet.hadoop.ParquetFileWriter.<init>(ParquetFileWriter.java:248)\r\n\tat org.apache.parquet.hadoop.ParquetOutputFormat.getRecordWriter(ParquetOutputFormat.java:390)\r\n\tat org.apache.parquet.hadoop.ParquetOutputFormat.getRecordWriter(ParquetOutputFormat.java:349)\r\n\tat org.apache.spark.sql.execution.datasources.parquet.ParquetOutputWriter.<init>(ParquetOutputWriter.scala:37)\r\n\tat org.apache.spark.sql.execution.datasources.parquet.ParquetFileFormat$$anon$1.newInstance(ParquetFileFormat.scala:150)\r\n\tat org.apache.spark.sql.execution.datasources.SingleDirectoryDataWriter.newOutputWriter(FileFormatDataWriter.scala:126)\r\n\tat org.apache.spark.sql.execution.datasources.SingleDirectoryDataWriter.<init>(FileFormatDataWriter.scala:111)\r\n\tat org.apache.spark.sql.execution.datasources.FileFormatWriter$.executeTask(FileFormatWriter.scala:264)\r\n\tat org.apache.spark.sql.execution.datasources.FileFormatWriter$.$anonfun$write$15(FileFormatWriter.scala:205)\r\n\tat org.apache.spark.scheduler.ResultTask.runTask(ResultTask.scala:90)\r\n\tat org.apache.spark.scheduler.Task.run(Task.scala:127)\r\n\tat org.apache.spark.executor.Executor$TaskRunner.$anonfun$run$3(Executor.scala:444)\r\n\tat org.apache.spark.util.Utils$.tryWithSafeFinally(Utils.scala:1377)\r\n\tat org.apache.spark.executor.Executor$TaskRunner.run(Executor.scala:447)\r\n\tat java.util.concurrent.ThreadPoolExecutor.runWorker(Unknown Source)\r\n\tat java.util.concurrent.ThreadPoolExecutor$Worker.run(Unknown Source)\r\n\tat java.lang.Thread.run(Unknown Source)\r\n\nDriver stacktrace:\r\n\tat org.apache.spark.scheduler.DAGScheduler.failJobAndIndependentStages(DAGScheduler.scala:2023)\r\n\tat org.apache.spark.scheduler.DAGScheduler.$anonfun$abortStage$2(DAGScheduler.scala:1972)\r\n\tat org.apache.spark.scheduler.DAGScheduler.$anonfun$abortStage$2$adapted(DAGScheduler.scala:1971)\r\n\tat scala.collection.mutable.ResizableArray.foreach(ResizableArray.scala:62)\r\n\tat scala.collection.mutable.ResizableArray.foreach$(ResizableArray.scala:55)\r\n\tat scala.collection.mutable.ArrayBuffer.foreach(ArrayBuffer.scala:49)\r\n\tat org.apache.spark.scheduler.DAGScheduler.abortStage(DAGScheduler.scala:1971)\r\n\tat org.apache.spark.scheduler.DAGScheduler.$anonfun$handleTaskSetFailed$1(DAGScheduler.scala:950)\r\n\tat org.apache.spark.scheduler.DAGScheduler.$anonfun$handleTaskSetFailed$1$adapted(DAGScheduler.scala:950)\r\n\tat scala.Option.foreach(Option.scala:407)\r\n\tat org.apache.spark.scheduler.DAGScheduler.handleTaskSetFailed(DAGScheduler.scala:950)\r\n\tat org.apache.spark.scheduler.DAGSchedulerEventProcessLoop.doOnReceive(DAGScheduler.scala:2203)\r\n\tat org.apache.spark.scheduler.DAGSchedulerEventProcessLoop.onReceive(DAGScheduler.scala:2152)\r\n\tat org.apache.spark.scheduler.DAGSchedulerEventProcessLoop.onReceive(DAGScheduler.scala:2141)\r\n\tat org.apache.spark.util.EventLoop$$anon$1.run(EventLoop.scala:49)\r\n\tat org.apache.spark.scheduler.DAGScheduler.runJob(DAGScheduler.scala:752)\r\n\tat org.apache.spark.SparkContext.runJob(SparkContext.scala:2093)\r\n\tat org.apache.spark.sql.execution.datasources.FileFormatWriter$.write(FileFormatWriter.scala:195)\r\n\t... 32 more\r\nCaused by: java.io.IOException: (null) entry in command string: null chmod 0644 E:\\Xpanxion\\python\\Pyspark\\NamesAndRatings.parquet\\_temporary\\0\\_temporary\\attempt_20200709193550_0020_m_000000_211\\part-00000-910b78dc-0c5a-42e3-8645-73022b191e46-c000.snappy.parquet\r\n\tat org.apache.hadoop.util.Shell$ShellCommandExecutor.execute(Shell.java:773)\r\n\tat org.apache.hadoop.util.Shell.execCommand(Shell.java:869)\r\n\tat org.apache.hadoop.util.Shell.execCommand(Shell.java:852)\r\n\tat org.apache.hadoop.fs.RawLocalFileSystem.setPermission(RawLocalFileSystem.java:733)\r\n\tat org.apache.hadoop.fs.RawLocalFileSystem$LocalFSFileOutputStream.<init>(RawLocalFileSystem.java:225)\r\n\tat org.apache.hadoop.fs.RawLocalFileSystem$LocalFSFileOutputStream.<init>(RawLocalFileSystem.java:209)\r\n\tat org.apache.hadoop.fs.RawLocalFileSystem.createOutputStreamWithMode(RawLocalFileSystem.java:307)\r\n\tat org.apache.hadoop.fs.RawLocalFileSystem.create(RawLocalFileSystem.java:296)\r\n\tat org.apache.hadoop.fs.RawLocalFileSystem.create(RawLocalFileSystem.java:328)\r\n\tat org.apache.hadoop.fs.ChecksumFileSystem$ChecksumFSOutputSummer.<init>(ChecksumFileSystem.java:398)\r\n\tat org.apache.hadoop.fs.ChecksumFileSystem.create(ChecksumFileSystem.java:461)\r\n\tat org.apache.hadoop.fs.ChecksumFileSystem.create(ChecksumFileSystem.java:440)\r\n\tat org.apache.hadoop.fs.FileSystem.create(FileSystem.java:911)\r\n\tat org.apache.hadoop.fs.FileSystem.create(FileSystem.java:892)\r\n\tat org.apache.parquet.hadoop.util.HadoopOutputFile.create(HadoopOutputFile.java:74)\r\n\tat org.apache.parquet.hadoop.ParquetFileWriter.<init>(ParquetFileWriter.java:248)\r\n\tat org.apache.parquet.hadoop.ParquetOutputFormat.getRecordWriter(ParquetOutputFormat.java:390)\r\n\tat org.apache.parquet.hadoop.ParquetOutputFormat.getRecordWriter(ParquetOutputFormat.java:349)\r\n\tat org.apache.spark.sql.execution.datasources.parquet.ParquetOutputWriter.<init>(ParquetOutputWriter.scala:37)\r\n\tat org.apache.spark.sql.execution.datasources.parquet.ParquetFileFormat$$anon$1.newInstance(ParquetFileFormat.scala:150)\r\n\tat org.apache.spark.sql.execution.datasources.SingleDirectoryDataWriter.newOutputWriter(FileFormatDataWriter.scala:126)\r\n\tat org.apache.spark.sql.execution.datasources.SingleDirectoryDataWriter.<init>(FileFormatDataWriter.scala:111)\r\n\tat org.apache.spark.sql.execution.datasources.FileFormatWriter$.executeTask(FileFormatWriter.scala:264)\r\n\tat org.apache.spark.sql.execution.datasources.FileFormatWriter$.$anonfun$write$15(FileFormatWriter.scala:205)\r\n\tat org.apache.spark.scheduler.ResultTask.runTask(ResultTask.scala:90)\r\n\tat org.apache.spark.scheduler.Task.run(Task.scala:127)\r\n\tat org.apache.spark.executor.Executor$TaskRunner.$anonfun$run$3(Executor.scala:444)\r\n\tat org.apache.spark.util.Utils$.tryWithSafeFinally(Utils.scala:1377)\r\n\tat org.apache.spark.executor.Executor$TaskRunner.run(Executor.scala:447)\r\n\tat java.util.concurrent.ThreadPoolExecutor.runWorker(Unknown Source)\r\n\tat java.util.concurrent.ThreadPoolExecutor$Worker.run(Unknown Source)\r\n\t... 1 more\r\n",
     "traceback": [
      "\u001b[1;31m---------------------------------------------------------------------------\u001b[0m",
      "\u001b[1;31mPy4JJavaError\u001b[0m                             Traceback (most recent call last)",
      "\u001b[1;32m<ipython-input-12-bf3e795e0c2e>\u001b[0m in \u001b[0;36m<module>\u001b[1;34m\u001b[0m\n\u001b[1;32m----> 1\u001b[1;33m \u001b[0mhigh_ratedshowDF\u001b[0m\u001b[1;33m.\u001b[0m\u001b[0mselect\u001b[0m\u001b[1;33m(\u001b[0m\u001b[1;34m\"name\"\u001b[0m\u001b[1;33m,\u001b[0m \u001b[1;34m\"rating\"\u001b[0m\u001b[1;33m)\u001b[0m\u001b[1;33m.\u001b[0m\u001b[0mwrite\u001b[0m\u001b[1;33m.\u001b[0m\u001b[0msave\u001b[0m\u001b[1;33m(\u001b[0m\u001b[1;34m\"NamesAndRatings.parquet\"\u001b[0m\u001b[1;33m,\u001b[0m \u001b[0mformat\u001b[0m\u001b[1;33m=\u001b[0m\u001b[1;34m\"parquet\"\u001b[0m\u001b[1;33m)\u001b[0m\u001b[1;33m\u001b[0m\u001b[1;33m\u001b[0m\u001b[0m\n\u001b[0m",
      "\u001b[1;32mC:\\Spark\\spark-3.0.0-bin-hadoop2.7\\python\\pyspark\\sql\\readwriter.py\u001b[0m in \u001b[0;36msave\u001b[1;34m(self, path, format, mode, partitionBy, **options)\u001b[0m\n\u001b[0;32m    825\u001b[0m             \u001b[0mself\u001b[0m\u001b[1;33m.\u001b[0m\u001b[0m_jwrite\u001b[0m\u001b[1;33m.\u001b[0m\u001b[0msave\u001b[0m\u001b[1;33m(\u001b[0m\u001b[1;33m)\u001b[0m\u001b[1;33m\u001b[0m\u001b[1;33m\u001b[0m\u001b[0m\n\u001b[0;32m    826\u001b[0m         \u001b[1;32melse\u001b[0m\u001b[1;33m:\u001b[0m\u001b[1;33m\u001b[0m\u001b[1;33m\u001b[0m\u001b[0m\n\u001b[1;32m--> 827\u001b[1;33m             \u001b[0mself\u001b[0m\u001b[1;33m.\u001b[0m\u001b[0m_jwrite\u001b[0m\u001b[1;33m.\u001b[0m\u001b[0msave\u001b[0m\u001b[1;33m(\u001b[0m\u001b[0mpath\u001b[0m\u001b[1;33m)\u001b[0m\u001b[1;33m\u001b[0m\u001b[1;33m\u001b[0m\u001b[0m\n\u001b[0m\u001b[0;32m    828\u001b[0m \u001b[1;33m\u001b[0m\u001b[0m\n\u001b[0;32m    829\u001b[0m     \u001b[1;33m@\u001b[0m\u001b[0msince\u001b[0m\u001b[1;33m(\u001b[0m\u001b[1;36m1.4\u001b[0m\u001b[1;33m)\u001b[0m\u001b[1;33m\u001b[0m\u001b[1;33m\u001b[0m\u001b[0m\n",
      "\u001b[1;32mC:\\Spark\\spark-3.0.0-bin-hadoop2.7\\python\\lib\\py4j-0.10.9-src.zip\\py4j\\java_gateway.py\u001b[0m in \u001b[0;36m__call__\u001b[1;34m(self, *args)\u001b[0m\n\u001b[0;32m   1302\u001b[0m \u001b[1;33m\u001b[0m\u001b[0m\n\u001b[0;32m   1303\u001b[0m         \u001b[0manswer\u001b[0m \u001b[1;33m=\u001b[0m \u001b[0mself\u001b[0m\u001b[1;33m.\u001b[0m\u001b[0mgateway_client\u001b[0m\u001b[1;33m.\u001b[0m\u001b[0msend_command\u001b[0m\u001b[1;33m(\u001b[0m\u001b[0mcommand\u001b[0m\u001b[1;33m)\u001b[0m\u001b[1;33m\u001b[0m\u001b[1;33m\u001b[0m\u001b[0m\n\u001b[1;32m-> 1304\u001b[1;33m         return_value = get_return_value(\n\u001b[0m\u001b[0;32m   1305\u001b[0m             answer, self.gateway_client, self.target_id, self.name)\n\u001b[0;32m   1306\u001b[0m \u001b[1;33m\u001b[0m\u001b[0m\n",
      "\u001b[1;32mC:\\Spark\\spark-3.0.0-bin-hadoop2.7\\python\\pyspark\\sql\\utils.py\u001b[0m in \u001b[0;36mdeco\u001b[1;34m(*a, **kw)\u001b[0m\n\u001b[0;32m    129\u001b[0m     \u001b[1;32mdef\u001b[0m \u001b[0mdeco\u001b[0m\u001b[1;33m(\u001b[0m\u001b[1;33m*\u001b[0m\u001b[0ma\u001b[0m\u001b[1;33m,\u001b[0m \u001b[1;33m**\u001b[0m\u001b[0mkw\u001b[0m\u001b[1;33m)\u001b[0m\u001b[1;33m:\u001b[0m\u001b[1;33m\u001b[0m\u001b[1;33m\u001b[0m\u001b[0m\n\u001b[0;32m    130\u001b[0m         \u001b[1;32mtry\u001b[0m\u001b[1;33m:\u001b[0m\u001b[1;33m\u001b[0m\u001b[1;33m\u001b[0m\u001b[0m\n\u001b[1;32m--> 131\u001b[1;33m             \u001b[1;32mreturn\u001b[0m \u001b[0mf\u001b[0m\u001b[1;33m(\u001b[0m\u001b[1;33m*\u001b[0m\u001b[0ma\u001b[0m\u001b[1;33m,\u001b[0m \u001b[1;33m**\u001b[0m\u001b[0mkw\u001b[0m\u001b[1;33m)\u001b[0m\u001b[1;33m\u001b[0m\u001b[1;33m\u001b[0m\u001b[0m\n\u001b[0m\u001b[0;32m    132\u001b[0m         \u001b[1;32mexcept\u001b[0m \u001b[0mpy4j\u001b[0m\u001b[1;33m.\u001b[0m\u001b[0mprotocol\u001b[0m\u001b[1;33m.\u001b[0m\u001b[0mPy4JJavaError\u001b[0m \u001b[1;32mas\u001b[0m \u001b[0me\u001b[0m\u001b[1;33m:\u001b[0m\u001b[1;33m\u001b[0m\u001b[1;33m\u001b[0m\u001b[0m\n\u001b[0;32m    133\u001b[0m             \u001b[0mconverted\u001b[0m \u001b[1;33m=\u001b[0m \u001b[0mconvert_exception\u001b[0m\u001b[1;33m(\u001b[0m\u001b[0me\u001b[0m\u001b[1;33m.\u001b[0m\u001b[0mjava_exception\u001b[0m\u001b[1;33m)\u001b[0m\u001b[1;33m\u001b[0m\u001b[1;33m\u001b[0m\u001b[0m\n",
      "\u001b[1;32mC:\\Spark\\spark-3.0.0-bin-hadoop2.7\\python\\lib\\py4j-0.10.9-src.zip\\py4j\\protocol.py\u001b[0m in \u001b[0;36mget_return_value\u001b[1;34m(answer, gateway_client, target_id, name)\u001b[0m\n\u001b[0;32m    324\u001b[0m             \u001b[0mvalue\u001b[0m \u001b[1;33m=\u001b[0m \u001b[0mOUTPUT_CONVERTER\u001b[0m\u001b[1;33m[\u001b[0m\u001b[0mtype\u001b[0m\u001b[1;33m]\u001b[0m\u001b[1;33m(\u001b[0m\u001b[0manswer\u001b[0m\u001b[1;33m[\u001b[0m\u001b[1;36m2\u001b[0m\u001b[1;33m:\u001b[0m\u001b[1;33m]\u001b[0m\u001b[1;33m,\u001b[0m \u001b[0mgateway_client\u001b[0m\u001b[1;33m)\u001b[0m\u001b[1;33m\u001b[0m\u001b[1;33m\u001b[0m\u001b[0m\n\u001b[0;32m    325\u001b[0m             \u001b[1;32mif\u001b[0m \u001b[0manswer\u001b[0m\u001b[1;33m[\u001b[0m\u001b[1;36m1\u001b[0m\u001b[1;33m]\u001b[0m \u001b[1;33m==\u001b[0m \u001b[0mREFERENCE_TYPE\u001b[0m\u001b[1;33m:\u001b[0m\u001b[1;33m\u001b[0m\u001b[1;33m\u001b[0m\u001b[0m\n\u001b[1;32m--> 326\u001b[1;33m                 raise Py4JJavaError(\n\u001b[0m\u001b[0;32m    327\u001b[0m                     \u001b[1;34m\"An error occurred while calling {0}{1}{2}.\\n\"\u001b[0m\u001b[1;33m.\u001b[0m\u001b[1;33m\u001b[0m\u001b[1;33m\u001b[0m\u001b[0m\n\u001b[0;32m    328\u001b[0m                     format(target_id, \".\", name), value)\n",
      "\u001b[1;31mPy4JJavaError\u001b[0m: An error occurred while calling o253.save.\n: org.apache.spark.SparkException: Job aborted.\r\n\tat org.apache.spark.sql.execution.datasources.FileFormatWriter$.write(FileFormatWriter.scala:226)\r\n\tat org.apache.spark.sql.execution.datasources.InsertIntoHadoopFsRelationCommand.run(InsertIntoHadoopFsRelationCommand.scala:178)\r\n\tat org.apache.spark.sql.execution.command.DataWritingCommandExec.sideEffectResult$lzycompute(commands.scala:108)\r\n\tat org.apache.spark.sql.execution.command.DataWritingCommandExec.sideEffectResult(commands.scala:106)\r\n\tat org.apache.spark.sql.execution.command.DataWritingCommandExec.doExecute(commands.scala:131)\r\n\tat org.apache.spark.sql.execution.SparkPlan.$anonfun$execute$1(SparkPlan.scala:175)\r\n\tat org.apache.spark.sql.execution.SparkPlan.$anonfun$executeQuery$1(SparkPlan.scala:213)\r\n\tat org.apache.spark.rdd.RDDOperationScope$.withScope(RDDOperationScope.scala:151)\r\n\tat org.apache.spark.sql.execution.SparkPlan.executeQuery(SparkPlan.scala:210)\r\n\tat org.apache.spark.sql.execution.SparkPlan.execute(SparkPlan.scala:171)\r\n\tat org.apache.spark.sql.execution.QueryExecution.toRdd$lzycompute(QueryExecution.scala:122)\r\n\tat org.apache.spark.sql.execution.QueryExecution.toRdd(QueryExecution.scala:121)\r\n\tat org.apache.spark.sql.DataFrameWriter.$anonfun$runCommand$1(DataFrameWriter.scala:944)\r\n\tat org.apache.spark.sql.execution.SQLExecution$.$anonfun$withNewExecutionId$5(SQLExecution.scala:100)\r\n\tat org.apache.spark.sql.execution.SQLExecution$.withSQLConfPropagated(SQLExecution.scala:160)\r\n\tat org.apache.spark.sql.execution.SQLExecution$.$anonfun$withNewExecutionId$1(SQLExecution.scala:87)\r\n\tat org.apache.spark.sql.SparkSession.withActive(SparkSession.scala:763)\r\n\tat org.apache.spark.sql.execution.SQLExecution$.withNewExecutionId(SQLExecution.scala:64)\r\n\tat org.apache.spark.sql.DataFrameWriter.runCommand(DataFrameWriter.scala:944)\r\n\tat org.apache.spark.sql.DataFrameWriter.saveToV1Source(DataFrameWriter.scala:396)\r\n\tat org.apache.spark.sql.DataFrameWriter.save(DataFrameWriter.scala:380)\r\n\tat org.apache.spark.sql.DataFrameWriter.save(DataFrameWriter.scala:269)\r\n\tat sun.reflect.NativeMethodAccessorImpl.invoke0(Native Method)\r\n\tat sun.reflect.NativeMethodAccessorImpl.invoke(Unknown Source)\r\n\tat sun.reflect.DelegatingMethodAccessorImpl.invoke(Unknown Source)\r\n\tat java.lang.reflect.Method.invoke(Unknown Source)\r\n\tat py4j.reflection.MethodInvoker.invoke(MethodInvoker.java:244)\r\n\tat py4j.reflection.ReflectionEngine.invoke(ReflectionEngine.java:357)\r\n\tat py4j.Gateway.invoke(Gateway.java:282)\r\n\tat py4j.commands.AbstractCommand.invokeMethod(AbstractCommand.java:132)\r\n\tat py4j.commands.CallCommand.execute(CallCommand.java:79)\r\n\tat py4j.GatewayConnection.run(GatewayConnection.java:238)\r\n\tat java.lang.Thread.run(Unknown Source)\r\nCaused by: org.apache.spark.SparkException: Job aborted due to stage failure: Task 0 in stage 20.0 failed 1 times, most recent failure: Lost task 0.0 in stage 20.0 (TID 211, LAPTOP-RBJJRMS1, executor driver): java.io.IOException: (null) entry in command string: null chmod 0644 E:\\Xpanxion\\python\\Pyspark\\NamesAndRatings.parquet\\_temporary\\0\\_temporary\\attempt_20200709193550_0020_m_000000_211\\part-00000-910b78dc-0c5a-42e3-8645-73022b191e46-c000.snappy.parquet\r\n\tat org.apache.hadoop.util.Shell$ShellCommandExecutor.execute(Shell.java:773)\r\n\tat org.apache.hadoop.util.Shell.execCommand(Shell.java:869)\r\n\tat org.apache.hadoop.util.Shell.execCommand(Shell.java:852)\r\n\tat org.apache.hadoop.fs.RawLocalFileSystem.setPermission(RawLocalFileSystem.java:733)\r\n\tat org.apache.hadoop.fs.RawLocalFileSystem$LocalFSFileOutputStream.<init>(RawLocalFileSystem.java:225)\r\n\tat org.apache.hadoop.fs.RawLocalFileSystem$LocalFSFileOutputStream.<init>(RawLocalFileSystem.java:209)\r\n\tat org.apache.hadoop.fs.RawLocalFileSystem.createOutputStreamWithMode(RawLocalFileSystem.java:307)\r\n\tat org.apache.hadoop.fs.RawLocalFileSystem.create(RawLocalFileSystem.java:296)\r\n\tat org.apache.hadoop.fs.RawLocalFileSystem.create(RawLocalFileSystem.java:328)\r\n\tat org.apache.hadoop.fs.ChecksumFileSystem$ChecksumFSOutputSummer.<init>(ChecksumFileSystem.java:398)\r\n\tat org.apache.hadoop.fs.ChecksumFileSystem.create(ChecksumFileSystem.java:461)\r\n\tat org.apache.hadoop.fs.ChecksumFileSystem.create(ChecksumFileSystem.java:440)\r\n\tat org.apache.hadoop.fs.FileSystem.create(FileSystem.java:911)\r\n\tat org.apache.hadoop.fs.FileSystem.create(FileSystem.java:892)\r\n\tat org.apache.parquet.hadoop.util.HadoopOutputFile.create(HadoopOutputFile.java:74)\r\n\tat org.apache.parquet.hadoop.ParquetFileWriter.<init>(ParquetFileWriter.java:248)\r\n\tat org.apache.parquet.hadoop.ParquetOutputFormat.getRecordWriter(ParquetOutputFormat.java:390)\r\n\tat org.apache.parquet.hadoop.ParquetOutputFormat.getRecordWriter(ParquetOutputFormat.java:349)\r\n\tat org.apache.spark.sql.execution.datasources.parquet.ParquetOutputWriter.<init>(ParquetOutputWriter.scala:37)\r\n\tat org.apache.spark.sql.execution.datasources.parquet.ParquetFileFormat$$anon$1.newInstance(ParquetFileFormat.scala:150)\r\n\tat org.apache.spark.sql.execution.datasources.SingleDirectoryDataWriter.newOutputWriter(FileFormatDataWriter.scala:126)\r\n\tat org.apache.spark.sql.execution.datasources.SingleDirectoryDataWriter.<init>(FileFormatDataWriter.scala:111)\r\n\tat org.apache.spark.sql.execution.datasources.FileFormatWriter$.executeTask(FileFormatWriter.scala:264)\r\n\tat org.apache.spark.sql.execution.datasources.FileFormatWriter$.$anonfun$write$15(FileFormatWriter.scala:205)\r\n\tat org.apache.spark.scheduler.ResultTask.runTask(ResultTask.scala:90)\r\n\tat org.apache.spark.scheduler.Task.run(Task.scala:127)\r\n\tat org.apache.spark.executor.Executor$TaskRunner.$anonfun$run$3(Executor.scala:444)\r\n\tat org.apache.spark.util.Utils$.tryWithSafeFinally(Utils.scala:1377)\r\n\tat org.apache.spark.executor.Executor$TaskRunner.run(Executor.scala:447)\r\n\tat java.util.concurrent.ThreadPoolExecutor.runWorker(Unknown Source)\r\n\tat java.util.concurrent.ThreadPoolExecutor$Worker.run(Unknown Source)\r\n\tat java.lang.Thread.run(Unknown Source)\r\n\nDriver stacktrace:\r\n\tat org.apache.spark.scheduler.DAGScheduler.failJobAndIndependentStages(DAGScheduler.scala:2023)\r\n\tat org.apache.spark.scheduler.DAGScheduler.$anonfun$abortStage$2(DAGScheduler.scala:1972)\r\n\tat org.apache.spark.scheduler.DAGScheduler.$anonfun$abortStage$2$adapted(DAGScheduler.scala:1971)\r\n\tat scala.collection.mutable.ResizableArray.foreach(ResizableArray.scala:62)\r\n\tat scala.collection.mutable.ResizableArray.foreach$(ResizableArray.scala:55)\r\n\tat scala.collection.mutable.ArrayBuffer.foreach(ArrayBuffer.scala:49)\r\n\tat org.apache.spark.scheduler.DAGScheduler.abortStage(DAGScheduler.scala:1971)\r\n\tat org.apache.spark.scheduler.DAGScheduler.$anonfun$handleTaskSetFailed$1(DAGScheduler.scala:950)\r\n\tat org.apache.spark.scheduler.DAGScheduler.$anonfun$handleTaskSetFailed$1$adapted(DAGScheduler.scala:950)\r\n\tat scala.Option.foreach(Option.scala:407)\r\n\tat org.apache.spark.scheduler.DAGScheduler.handleTaskSetFailed(DAGScheduler.scala:950)\r\n\tat org.apache.spark.scheduler.DAGSchedulerEventProcessLoop.doOnReceive(DAGScheduler.scala:2203)\r\n\tat org.apache.spark.scheduler.DAGSchedulerEventProcessLoop.onReceive(DAGScheduler.scala:2152)\r\n\tat org.apache.spark.scheduler.DAGSchedulerEventProcessLoop.onReceive(DAGScheduler.scala:2141)\r\n\tat org.apache.spark.util.EventLoop$$anon$1.run(EventLoop.scala:49)\r\n\tat org.apache.spark.scheduler.DAGScheduler.runJob(DAGScheduler.scala:752)\r\n\tat org.apache.spark.SparkContext.runJob(SparkContext.scala:2093)\r\n\tat org.apache.spark.sql.execution.datasources.FileFormatWriter$.write(FileFormatWriter.scala:195)\r\n\t... 32 more\r\nCaused by: java.io.IOException: (null) entry in command string: null chmod 0644 E:\\Xpanxion\\python\\Pyspark\\NamesAndRatings.parquet\\_temporary\\0\\_temporary\\attempt_20200709193550_0020_m_000000_211\\part-00000-910b78dc-0c5a-42e3-8645-73022b191e46-c000.snappy.parquet\r\n\tat org.apache.hadoop.util.Shell$ShellCommandExecutor.execute(Shell.java:773)\r\n\tat org.apache.hadoop.util.Shell.execCommand(Shell.java:869)\r\n\tat org.apache.hadoop.util.Shell.execCommand(Shell.java:852)\r\n\tat org.apache.hadoop.fs.RawLocalFileSystem.setPermission(RawLocalFileSystem.java:733)\r\n\tat org.apache.hadoop.fs.RawLocalFileSystem$LocalFSFileOutputStream.<init>(RawLocalFileSystem.java:225)\r\n\tat org.apache.hadoop.fs.RawLocalFileSystem$LocalFSFileOutputStream.<init>(RawLocalFileSystem.java:209)\r\n\tat org.apache.hadoop.fs.RawLocalFileSystem.createOutputStreamWithMode(RawLocalFileSystem.java:307)\r\n\tat org.apache.hadoop.fs.RawLocalFileSystem.create(RawLocalFileSystem.java:296)\r\n\tat org.apache.hadoop.fs.RawLocalFileSystem.create(RawLocalFileSystem.java:328)\r\n\tat org.apache.hadoop.fs.ChecksumFileSystem$ChecksumFSOutputSummer.<init>(ChecksumFileSystem.java:398)\r\n\tat org.apache.hadoop.fs.ChecksumFileSystem.create(ChecksumFileSystem.java:461)\r\n\tat org.apache.hadoop.fs.ChecksumFileSystem.create(ChecksumFileSystem.java:440)\r\n\tat org.apache.hadoop.fs.FileSystem.create(FileSystem.java:911)\r\n\tat org.apache.hadoop.fs.FileSystem.create(FileSystem.java:892)\r\n\tat org.apache.parquet.hadoop.util.HadoopOutputFile.create(HadoopOutputFile.java:74)\r\n\tat org.apache.parquet.hadoop.ParquetFileWriter.<init>(ParquetFileWriter.java:248)\r\n\tat org.apache.parquet.hadoop.ParquetOutputFormat.getRecordWriter(ParquetOutputFormat.java:390)\r\n\tat org.apache.parquet.hadoop.ParquetOutputFormat.getRecordWriter(ParquetOutputFormat.java:349)\r\n\tat org.apache.spark.sql.execution.datasources.parquet.ParquetOutputWriter.<init>(ParquetOutputWriter.scala:37)\r\n\tat org.apache.spark.sql.execution.datasources.parquet.ParquetFileFormat$$anon$1.newInstance(ParquetFileFormat.scala:150)\r\n\tat org.apache.spark.sql.execution.datasources.SingleDirectoryDataWriter.newOutputWriter(FileFormatDataWriter.scala:126)\r\n\tat org.apache.spark.sql.execution.datasources.SingleDirectoryDataWriter.<init>(FileFormatDataWriter.scala:111)\r\n\tat org.apache.spark.sql.execution.datasources.FileFormatWriter$.executeTask(FileFormatWriter.scala:264)\r\n\tat org.apache.spark.sql.execution.datasources.FileFormatWriter$.$anonfun$write$15(FileFormatWriter.scala:205)\r\n\tat org.apache.spark.scheduler.ResultTask.runTask(ResultTask.scala:90)\r\n\tat org.apache.spark.scheduler.Task.run(Task.scala:127)\r\n\tat org.apache.spark.executor.Executor$TaskRunner.$anonfun$run$3(Executor.scala:444)\r\n\tat org.apache.spark.util.Utils$.tryWithSafeFinally(Utils.scala:1377)\r\n\tat org.apache.spark.executor.Executor$TaskRunner.run(Executor.scala:447)\r\n\tat java.util.concurrent.ThreadPoolExecutor.runWorker(Unknown Source)\r\n\tat java.util.concurrent.ThreadPoolExecutor$Worker.run(Unknown Source)\r\n\t... 1 more\r\n"
     ]
    }
   ],
   "source": [
    "high_ratedshowDF.select(\"name\", \"rating\").write.save(\"NamesAndRatings.parquet\", format=\"parquet\")\n"
   ]
  },
  {
   "cell_type": "code",
   "execution_count": 222,
   "metadata": {},
   "outputs": [],
   "source": [
    "df2 = spark.read.load(\"NamesAndRatings.parquet\")\n",
    "df2.show()"
   ]
  },
  {
   "cell_type": "markdown",
   "metadata": {},
   "source": [
    "## performing sql queries directly on files"
   ]
  },
  {
   "cell_type": "code",
   "execution_count": 14,
   "metadata": {},
   "outputs": [],
   "source": [
    " \n",
    "querydf = spark.sql(\"SELECT * FROM json.`Data/tv-shows.json` where rating.average>8.0 \")"
   ]
  },
  {
   "cell_type": "code",
   "execution_count": 15,
   "metadata": {
    "tags": []
   },
   "outputs": [
    {
     "output_type": "stream",
     "name": "stdout",
     "text": "+--------------------+--------------------+--------------------+---+--------------------+--------+------------------+--------------------+--------------------+----------+------+-------+--------------------+-------+--------------------+---------+----------+--------------------+----------+------+\n|              _links|           externals|              genres| id|               image|language|              name|             network|        officialSite| premiered|rating|runtime|            schedule| status|             summary|     type|   updated|                 url|webChannel|weight|\n+--------------------+--------------------+--------------------+---+--------------------+--------+------------------+--------------------+--------------------+----------+------+-------+--------------------+-------+--------------------+---------+----------+--------------------+----------+------+\n|[, [http://api.tv...|[tt1839578, 24874...|[Drama, Action, C...|  2|[http://static.tv...| English|Person of Interest|[[US, United Stat...|http://www.cbs.co...|2011-09-22| [9.0]|     60|  [[Tuesday], 22:00]|  Ended|<p>You are being ...| Scripted|1535507028|http://www.tvmaze...|      null|    96|\n|[[http://api.tvma...|[tt2356777, 27063...|[Drama, Crime, Th...|  5|[http://static.tv...| English|    True Detective|[[US, United Stat...|http://www.hbo.co...|2014-01-12| [8.3]|     60|   [[Sunday], 21:00]|Running|<p>Touch darkness...| Scripted|1536053668|http://www.tvmaze...|      null|    99|\n|[, [http://api.tv...|[tt1796960, 24789...|[Drama, Thriller,...|  7|[http://static.tv...| English|          Homeland|[[US, United Stat...|http://www.sho.co...|2011-10-02| [8.3]|     60|   [[Sunday], 21:00]|Running|<p>The winner of ...| Scripted|1533619895|http://www.tvmaze...|      null|    98|\n|[, [http://api.tv...|[tt1830617, 24873...|[Drama, Crime, Su...| 10|[http://static.tv...| English|             Grimm|[[US, United Stat...|http://www.nbc.co...|2011-10-28| [8.5]|     60|   [[Friday], 20:00]|  Ended|<p><b>Grimm </b>i...| Scripted|1531998068|http://www.tvmaze...|      null|    95|\n|[[http://api.tvma...|[tt3107288, 27912...|[Drama, Action, S...| 13|[http://static.tv...| English|         The Flash|[[US, United Stat...|http://www.cwtv.c...|2014-10-07| [8.1]|     60|  [[Tuesday], 20:00]|Running|<p>After a partic...| Scripted|1535545468|http://www.tvmaze...|      null|    99|\n|[, [http://api.tv...|[tt1954347, 25817...|[Drama, Crime, Sc...| 14|[http://static.tv...| English|         Continuum|[[CA, Canada, Ame...|http://www.showca...|2012-05-27| [8.2]|     60|   [[Sunday], 21:00]|  Ended|<p><b>Continuum <...| Scripted|1536247355|http://www.tvmaze...|      null|    84|\n|[, [http://api.tv...|[tt2628232, 26576...|[Drama, Horror, T...| 16|[http://static.tv...| English|    Penny Dreadful|[[US, United Stat...|http://www.sho.co...|2014-05-11| [8.3]|     60|   [[Sunday], 21:00]|  Ended|<p>Some of litera...| Scripted|1536427994|http://www.tvmaze...|      null|    84|\n|[[http://api.tvma...|[tt0460681, 78901...|[Drama, Action, S...| 19|[http://static.tv...| English|      Supernatural|[[US, United Stat...|http://www.cwtv.c...|2005-09-13| [8.4]|     60| [[Thursday], 20:00]|Running|<p>The show follo...| Scripted|1536045363|http://www.tvmaze...|      null|    99|\n|[, [http://api.tv...|[tt0325547, 71278...|[Anime, Horror, S...| 25|[http://static.tv...|Japanese|          Hellsing|[[JP, Japan, Asia...|                null|2001-10-10| [8.3]|     30|     [[Wednesday], ]|  Ended|<p><b>Hellsing </...|Animation|1504676730|http://www.tvmaze...|      null|    22|\n|[, [http://api.tv...|[tt0495212, 26368...|[Drama, Action, A...| 26|[http://static.tv...|Japanese| Hellsing Ultimate|[[JP, Japan, Asia...|                null|2006-02-10| [8.1]|     50|[[Wednesday], 12:00]|  Ended|<p><b>Hellsing Ul...|Animation|1504676814|http://www.tvmaze...|      null|     0|\n|[, [http://api.tv...|[tt0318871, 73752...|[Anime, Fantasy, ...| 27|[http://static.tv...|Japanese|           Berserk|[[JP, Japan, Asia...|                null|1997-10-07| [9.2]|     25|       [[Tuesday], ]|  Ended|<p><b>Berserk </b...|Animation|1504676900|http://www.tvmaze...|      null|    58|\n|[, [http://api.tv...|[tt0904208, 80349...|     [Drama, Comedy]| 28|[http://static.tv...| English|   Californication|[[US, United Stat...|http://www.sho.co...|2007-08-13| [8.1]|     30|   [[Sunday], 21:30]|  Ended|<p><b>Californica...| Scripted|1535457239|http://www.tvmaze...|      null|    78|\n|[[http://api.tvma...|[tt2306299, 26044...|[Drama, Action, H...| 29|[http://static.tv...| English|           Vikings|[[CA, Canada, Ame...|http://www.histor...|2013-03-03| [8.8]|     60|[[Wednesday], 21:00]|Running|<p><b>Vikings</b>...| Scripted|1532960010|http://www.tvmaze...|      null|    99|\n|[, [http://api.tv...|[tt2802850, 26961...|      [Drama, Crime]| 32|[http://static.tv...| English|             Fargo|[[US, United Stat...|http://www.fxnetw...|2014-04-15| [9.0]|     60|[[Wednesday], 22:00]|Running|<p><b>Fargo </b>i...| Scripted|1533352800|http://www.tvmaze...|      null|    94|\n|[, [http://api.tv...|[tt1637727, 21017...|[Drama, Crime, Th...| 35|[http://static.tv...| English|       The Killing|[[US, United Stat...|http://www.amc.co...|2011-04-03| [8.3]|     60|   [[Friday], 00:00]|  Ended|<p><b>The Killing...| Scripted|1535651226|http://www.tvmaze...|      null|    85|\n|[, [http://api.tv...|[tt0877057, 79481...|[Drama, Anime, Th...| 40|[http://static.tv...|Japanese|        Death Note|[[JP, Japan, Asia...|http://www.j-deat...|2006-10-03| [8.7]|     30|  [[Tuesday], 13:00]|  Ended|<p><b>Death Note ...|Animation|1533412956|http://www.tvmaze...|      null|    41|\n|[[http://api.tvma...|[tt1828327, 24883...|    [Comedy, Family]| 41|[http://static.tv...| English| Last Man Standing|[[US, United Stat...|https://www.fox.c...|2011-10-11| [8.5]|     30|   [[Friday], 20:00]|Running|<p><b>Last Man St...| Scripted|1536399768|http://www.tvmaze...|      null|    94|\n|[[http://api.tvma...|[tt3006802, 27040...|[Adventure, Roman...| 43|[http://static.tv...| English|         Outlander|[[US, United Stat...|http://www.starz....|2014-08-09| [8.3]|     60|   [[Sunday], 20:00]|Running|<p><b>Outlander <...| Scripted|1535813292|http://www.tvmaze...|      null|    98|\n|[, [http://api.tv...|[tt3487382, 28153...|[Drama, Crime, Su...| 46|[http://static.tv...| English|           Forever|[[US, United Stat...|http://abc.go.com...|2014-09-22| [8.3]|     60|   [[Monday], 22:00]|  Ended|<p>Doctor Henry M...| Scripted|1533639491|http://www.tvmaze...|      null|    84|\n|[, [http://api.tv...|[tt2467372, 26958...|[Comedy, Action, ...| 49|[http://static.tv...| English|Brooklyn Nine-Nine|[[US, United Stat...|https://www.nbc.c...|2013-09-17| [8.2]|     30|   [[Sunday], 20:30]|Running|<p><b>Brooklyn Ni...| Scripted|1536349942|http://www.tvmaze...|      null|    96|\n+--------------------+--------------------+--------------------+---+--------------------+--------+------------------+--------------------+--------------------+----------+------+-------+--------------------+-------+--------------------+---------+----------+--------------------+----------+------+\nonly showing top 20 rows\n\n"
    }
   ],
   "source": [
    "querydf.show()"
   ]
  },
  {
   "cell_type": "code",
   "execution_count": 16,
   "metadata": {},
   "outputs": [
    {
     "output_type": "execute_result",
     "data": {
      "text/plain": "101"
     },
     "metadata": {},
     "execution_count": 16
    }
   ],
   "source": [
    "querydf.count() "
   ]
  },
  {
   "cell_type": "code",
   "execution_count": 17,
   "metadata": {},
   "outputs": [
    {
     "output_type": "execute_result",
     "data": {
      "text/plain": "233"
     },
     "metadata": {},
     "execution_count": 17
    }
   ],
   "source": [
    "tvshowDF.count()"
   ]
  },
  {
   "cell_type": "markdown",
   "metadata": {},
   "source": [
    " ## groupby query based on networks in dataset\n",
    "\n",
    " ### Max\n",
    " ### Min\n",
    " ### Mean"
   ]
  },
  {
   "cell_type": "code",
   "execution_count": 18,
   "metadata": {
    "tags": []
   },
   "outputs": [
    {
     "output_type": "stream",
     "name": "stdout",
     "text": "+--------------+------------------+------------------+--------------------+-----------------+\n|          name|           avg(id)|      avg(runtime)|        avg(updated)|      avg(weight)|\n+--------------+------------------+------------------+--------------------+-----------------+\n|           NBC|127.74074074074075|53.333333333333336|1.5253129224074075E9|71.18518518518519|\n|      Showtime|120.85714285714286| 46.42857142857143| 1.533269948642857E9|84.57142857142857|\n|           CMT|              53.0|              60.0|       1.536402567E9|             92.0|\n|           ITV|             242.0|              60.0|       1.504806814E9|              0.0|\n|   BBC America|              37.0|              60.0|       1.535820437E9|             36.0|\n|       Cinemax|             107.5|              60.0|      1.5233619865E9|             83.0|\n|El Rey Network|             105.0|              60.0|       1.533639336E9|             87.0|\n|Comedy Central|202.66666666666666|              30.0|1.5335118733333333E9|66.66666666666667|\n|   WGN America|             185.0|              60.0|       1.521566727E9|             80.0|\n|     Disney XD|             117.0|              30.0|       1.533639037E9|             89.0|\n|      Lifetime| 99.33333333333333|              60.0|       1.523368594E9|82.33333333333333|\n|          Syfy|152.23076923076923| 56.30769230769231|1.5250465919230769E9| 79.6923076923077|\n|   Nickelodeon|             178.0|              30.0|       1.535215074E9|             80.0|\n|           A&E|             142.0|              60.0|       1.532536799E9|             83.0|\n|       BBC Two|             246.0|              60.0|       1.481568449E9|              0.0|\n|   Sundance TV|             221.0|              60.0|       1.506648402E9|             96.0|\n|        The CW|  96.3076923076923|              60.0|1.5291280120769231E9|81.46153846153847|\n|           HBO|125.46666666666667|              46.0|1.5309125198666666E9|71.06666666666666|\n|           TF1|             220.0|              60.0|       1.532701948E9|             96.0|\n|      Showcase|              13.0|              60.0|       1.535163642E9|             87.5|\n+--------------+------------------+------------------+--------------------+-----------------+\nonly showing top 20 rows\n\n"
    }
   ],
   "source": [
    "tvshowDF.groupby('network.name').mean().show()"
   ]
  },
  {
   "cell_type": "code",
   "execution_count": 19,
   "metadata": {
    "tags": []
   },
   "outputs": [
    {
     "output_type": "stream",
     "name": "stdout",
     "text": "+--------------+-------+------------+------------+-----------+\n|          name|max(id)|max(runtime)|max(updated)|max(weight)|\n+--------------+-------+------------+------------+-----------+\n|           NBC|    237|         120|  1536584006|         99|\n|      Showtime|    161|          60|  1536575654|        100|\n|           CMT|     53|          60|  1536402567|         92|\n|           ITV|    242|          60|  1504806814|          0|\n|   BBC America|     37|          60|  1535820437|         36|\n|       Cinemax|    164|          60|  1526372513|         87|\n|El Rey Network|    105|          60|  1533639336|         87|\n|Comedy Central|    249|          30|  1534598404|         90|\n|   WGN America|    185|          60|  1521566727|         80|\n|     Disney XD|    117|          30|  1533639037|         89|\n|      Lifetime|    201|          60|  1532897388|         87|\n|          Syfy|    245|          60|  1536215230|         97|\n|   Nickelodeon|    178|          30|  1535215074|         80|\n|           A&E|    195|          60|  1533318079|         86|\n|       BBC Two|    246|          60|  1481568449|          0|\n|   Sundance TV|    221|          60|  1506648402|         96|\n|        The CW|    203|          60|  1536410972|        100|\n|           HBO|    192|          60|  1536317626|         99|\n|           TF1|    220|          60|  1532701948|         96|\n|      Showcase|     14|          60|  1536247355|         91|\n+--------------+-------+------------+------------+-----------+\nonly showing top 20 rows\n\n"
    }
   ],
   "source": [
    "tvshowDF.groupby('network.name').max().show()"
   ]
  },
  {
   "cell_type": "code",
   "execution_count": 20,
   "metadata": {
    "tags": []
   },
   "outputs": [
    {
     "output_type": "stream",
     "name": "stdout",
     "text": "+--------------+-------+------------+------------+-----------+\n|          name|min(id)|min(runtime)|min(updated)|min(weight)|\n+--------------+-------+------------+------------+-----------+\n|           NBC|     10|          30|  1477162055|          0|\n|      Showtime|      7|          30|  1514126563|         53|\n|           CMT|     53|          60|  1536402567|         92|\n|           ITV|    242|          60|  1504806814|          0|\n|   BBC America|     37|          60|  1535820437|         36|\n|       Cinemax|     51|          60|  1520351460|         79|\n|El Rey Network|    105|          60|  1533639336|         87|\n|Comedy Central|    112|          30|  1531338860|         21|\n|   WGN America|    185|          60|  1521566727|         80|\n|     Disney XD|    117|          30|  1533639037|         89|\n|      Lifetime|     47|          60|  1518183491|         76|\n|          Syfy|     34|          30|  1495228218|         21|\n|   Nickelodeon|    178|          30|  1535215074|         80|\n|           A&E|     89|          60|  1531755519|         80|\n|       BBC Two|    246|          60|  1481568449|          0|\n|   Sundance TV|    221|          60|  1506648402|         96|\n|        The CW|      4|          60|  1495537979|          0|\n|           HBO|      5|          30|  1508079510|          0|\n|           TF1|    220|          60|  1532701948|         96|\n|      Showcase|     12|          60|  1534079929|         84|\n+--------------+-------+------------+------------+-----------+\nonly showing top 20 rows\n\n"
    }
   ],
   "source": [
    "tvshowDF.groupby('network.name').min().show()"
   ]
  },
  {
   "cell_type": "code",
   "execution_count": 21,
   "metadata": {
    "tags": []
   },
   "outputs": [
    {
     "output_type": "stream",
     "name": "stdout",
     "text": "+------------+\n|max(runtime)|\n+------------+\n|         120|\n+------------+\n\n"
    }
   ],
   "source": [
    "# find tv show with max runtime by aggregation function\n",
    "tvshowDF.agg({'runtime':'max'}).show() "
   ]
  },
  {
   "cell_type": "markdown",
   "metadata": {},
   "source": [
    "## Get the show with highest runtime"
   ]
  },
  {
   "cell_type": "code",
   "execution_count": 23,
   "metadata": {},
   "outputs": [],
   "source": [
    "querydf = spark.sql(\"SELECT name FROM json.`Data/tv-shows.json` where runtime = 120 limit 1 \")"
   ]
  },
  {
   "cell_type": "code",
   "execution_count": 24,
   "metadata": {
    "tags": []
   },
   "outputs": [
    {
     "output_type": "stream",
     "name": "stdout",
     "text": "+---------+\n|     name|\n+---------+\n|The Voice|\n+---------+\n\n"
    }
   ],
   "source": [
    "querydf.show()"
   ]
  },
  {
   "cell_type": "code",
   "execution_count": 25,
   "metadata": {
    "tags": []
   },
   "outputs": [
    {
     "output_type": "stream",
     "name": "stdout",
     "text": "+--------------------+------------+\n|                name|max(runtime)|\n+--------------------+------------+\n|              Crisis|          60|\n|Battlestar Galactica|          60|\n|The Daily Show wi...|          30|\n|             Mulaney|          30|\n|            Marry Me|          30|\n|  Survivor's Remorse|          30|\n| The Vampire Diaries|          60|\n|            Hostages|          60|\n|             Berserk|          25|\n|            Cristela|          30|\n|       Stargate SG-1|          60|\n|CSI: Crime Scene ...|          60|\n|       The Last Ship|          60|\n|               Awake|          60|\n|           The Voice|         120|\n|             Believe|          60|\n|           The River|          60|\n|          Revolution|          60|\n|                Glee|          60|\n|        Chicago Fire|          60|\n+--------------------+------------+\nonly showing top 20 rows\n\n"
    }
   ],
   "source": [
    "#Using group by and aggregate together\n",
    "group_data = tvshowDF.groupby('name')\n",
    "group_data.agg({'runtime':'max'}).show()"
   ]
  },
  {
   "cell_type": "markdown",
   "metadata": {},
   "source": [
    "## get shows which premiered in a specific year"
   ]
  },
  {
   "cell_type": "code",
   "execution_count": 26,
   "metadata": {
    "tags": []
   },
   "outputs": [
    {
     "output_type": "stream",
     "name": "stdout",
     "text": "+----------+\n| premiered|\n+----------+\n|2011-09-22|\n|2011-10-02|\n|2011-09-21|\n|2011-10-28|\n|2011-10-05|\n|2011-04-03|\n|2011-10-11|\n|2011-09-20|\n|2011-04-26|\n|2011-11-06|\n|2011-04-17|\n|2011-09-20|\n|2011-06-19|\n|2011-01-09|\n|2011-10-23|\n|2011-09-19|\n|2011-01-09|\n|2011-07-19|\n|2011-01-09|\n|2011-06-23|\n+----------+\nonly showing top 20 rows\n\n"
    }
   ],
   "source": [
    "#get all shows aired in 2011\n",
    "spark.sql(\"SELECT premiered FROM json.`Data/tv-shows.json` where premiered like '%2011%'\").show()"
   ]
  },
  {
   "cell_type": "markdown",
   "metadata": {},
   "source": [
    "## get shows which have rating above 9 along with network name and plot the graph"
   ]
  },
  {
   "cell_type": "code",
   "execution_count": 27,
   "metadata": {
    "tags": []
   },
   "outputs": [
    {
     "output_type": "stream",
     "name": "stdout",
     "text": "+----------+-----------+\n|      name|count(name)|\n+----------+-----------+\n|      Syfy|          1|\n|       HBO|          2|\n|       FOX|          1|\n|       AMC|          1|\n|       NTV|          1|\n|Adult Swim|          1|\n+----------+-----------+\n\n"
    }
   ],
   "source": [
    "querydf = spark.sql(\"SELECT network.name, count(name) from json.`Data/tv-shows.json` where rating.average>9.0 group by network.name\")\n",
    "querydf = querydf.dropna(how= 'any')\n",
    "querydf.show()"
   ]
  },
  {
   "cell_type": "code",
   "execution_count": 28,
   "metadata": {},
   "outputs": [],
   "source": [
    "import matplotlib.pyplot as plt\n",
    "x = [row['name'] for row in querydf.collect()]\n",
    "y = [row['count(name)'] for row in querydf.collect()]\n"
   ]
  },
  {
   "cell_type": "code",
   "execution_count": 29,
   "metadata": {},
   "outputs": [
    {
     "output_type": "execute_result",
     "data": {
      "text/plain": "['Syfy', 'HBO', 'FOX', 'AMC', 'NTV', 'Adult Swim']"
     },
     "metadata": {},
     "execution_count": 29
    }
   ],
   "source": [
    "x"
   ]
  },
  {
   "cell_type": "code",
   "execution_count": 30,
   "metadata": {
    "tags": []
   },
   "outputs": [
    {
     "output_type": "stream",
     "name": "stderr",
     "text": "No handles with labels found to put in legend.\n"
    },
    {
     "output_type": "display_data",
     "data": {
      "text/plain": "<Figure size 432x288 with 1 Axes>",
      "image/svg+xml": "<?xml version=\"1.0\" encoding=\"utf-8\" standalone=\"no\"?>\r\n<!DOCTYPE svg PUBLIC \"-//W3C//DTD SVG 1.1//EN\"\r\n  \"http://www.w3.org/Graphics/SVG/1.1/DTD/svg11.dtd\">\r\n<!-- Created with matplotlib (https://matplotlib.org/) -->\r\n<svg height=\"277.314375pt\" version=\"1.1\" viewBox=\"0 0 392.14375 277.314375\" width=\"392.14375pt\" xmlns=\"http://www.w3.org/2000/svg\" xmlns:xlink=\"http://www.w3.org/1999/xlink\">\r\n <defs>\r\n  <style type=\"text/css\">\r\n*{stroke-linecap:butt;stroke-linejoin:round;}\r\n  </style>\r\n </defs>\r\n <g id=\"figure_1\">\r\n  <g id=\"patch_1\">\r\n   <path d=\"M -0 277.314375 \r\nL 392.14375 277.314375 \r\nL 392.14375 0 \r\nL -0 0 \r\nz\r\n\" style=\"fill:none;\"/>\r\n  </g>\r\n  <g id=\"axes_1\">\r\n   <g id=\"patch_2\">\r\n    <path d=\"M 50.14375 239.758125 \r\nL 384.94375 239.758125 \r\nL 384.94375 22.318125 \r\nL 50.14375 22.318125 \r\nz\r\n\" style=\"fill:#ffffff;\"/>\r\n   </g>\r\n   <g id=\"patch_3\">\r\n    <path clip-path=\"url(#pb1881812a2)\" d=\"M 65.361932 239.758125 \r\nL 107.343123 239.758125 \r\nL 107.343123 136.215268 \r\nL 65.361932 136.215268 \r\nz\r\n\" style=\"fill:#1f77b4;\"/>\r\n   </g>\r\n   <g id=\"patch_4\">\r\n    <path clip-path=\"url(#pb1881812a2)\" d=\"M 117.838421 239.758125 \r\nL 159.819612 239.758125 \r\nL 159.819612 32.672411 \r\nL 117.838421 32.672411 \r\nz\r\n\" style=\"fill:#1f77b4;\"/>\r\n   </g>\r\n   <g id=\"patch_5\">\r\n    <path clip-path=\"url(#pb1881812a2)\" d=\"M 170.31491 239.758125 \r\nL 212.296101 239.758125 \r\nL 212.296101 136.215268 \r\nL 170.31491 136.215268 \r\nz\r\n\" style=\"fill:#1f77b4;\"/>\r\n   </g>\r\n   <g id=\"patch_6\">\r\n    <path clip-path=\"url(#pb1881812a2)\" d=\"M 222.791399 239.758125 \r\nL 264.77259 239.758125 \r\nL 264.77259 136.215268 \r\nL 222.791399 136.215268 \r\nz\r\n\" style=\"fill:#1f77b4;\"/>\r\n   </g>\r\n   <g id=\"patch_7\">\r\n    <path clip-path=\"url(#pb1881812a2)\" d=\"M 275.267888 239.758125 \r\nL 317.249079 239.758125 \r\nL 317.249079 136.215268 \r\nL 275.267888 136.215268 \r\nz\r\n\" style=\"fill:#1f77b4;\"/>\r\n   </g>\r\n   <g id=\"patch_8\">\r\n    <path clip-path=\"url(#pb1881812a2)\" d=\"M 327.744377 239.758125 \r\nL 369.725568 239.758125 \r\nL 369.725568 136.215268 \r\nL 327.744377 136.215268 \r\nz\r\n\" style=\"fill:#1f77b4;\"/>\r\n   </g>\r\n   <g id=\"matplotlib.axis_1\">\r\n    <g id=\"xtick_1\">\r\n     <g id=\"line2d_1\">\r\n      <defs>\r\n       <path d=\"M 0 0 \r\nL 0 3.5 \r\n\" id=\"m6ac072c1e7\" style=\"stroke:#000000;stroke-width:0.8;\"/>\r\n      </defs>\r\n      <g>\r\n       <use style=\"stroke:#000000;stroke-width:0.8;\" x=\"86.352527\" xlink:href=\"#m6ac072c1e7\" y=\"239.758125\"/>\r\n      </g>\r\n     </g>\r\n     <g id=\"text_1\">\r\n      <!-- Syfy -->\r\n      <defs>\r\n       <path d=\"M 53.515625 70.515625 \r\nL 53.515625 60.890625 \r\nQ 47.90625 63.578125 42.921875 64.890625 \r\nQ 37.9375 66.21875 33.296875 66.21875 \r\nQ 25.25 66.21875 20.875 63.09375 \r\nQ 16.5 59.96875 16.5 54.203125 \r\nQ 16.5 49.359375 19.40625 46.890625 \r\nQ 22.3125 44.4375 30.421875 42.921875 \r\nL 36.375 41.703125 \r\nQ 47.40625 39.59375 52.65625 34.296875 \r\nQ 57.90625 29 57.90625 20.125 \r\nQ 57.90625 9.515625 50.796875 4.046875 \r\nQ 43.703125 -1.421875 29.984375 -1.421875 \r\nQ 24.8125 -1.421875 18.96875 -0.25 \r\nQ 13.140625 0.921875 6.890625 3.21875 \r\nL 6.890625 13.375 \r\nQ 12.890625 10.015625 18.65625 8.296875 \r\nQ 24.421875 6.59375 29.984375 6.59375 \r\nQ 38.421875 6.59375 43.015625 9.90625 \r\nQ 47.609375 13.234375 47.609375 19.390625 \r\nQ 47.609375 24.75 44.3125 27.78125 \r\nQ 41.015625 30.8125 33.5 32.328125 \r\nL 27.484375 33.5 \r\nQ 16.453125 35.6875 11.515625 40.375 \r\nQ 6.59375 45.0625 6.59375 53.421875 \r\nQ 6.59375 63.09375 13.40625 68.65625 \r\nQ 20.21875 74.21875 32.171875 74.21875 \r\nQ 37.3125 74.21875 42.625 73.28125 \r\nQ 47.953125 72.359375 53.515625 70.515625 \r\nz\r\n\" id=\"DejaVuSans-83\"/>\r\n       <path d=\"M 32.171875 -5.078125 \r\nQ 28.375 -14.84375 24.75 -17.8125 \r\nQ 21.140625 -20.796875 15.09375 -20.796875 \r\nL 7.90625 -20.796875 \r\nL 7.90625 -13.28125 \r\nL 13.1875 -13.28125 \r\nQ 16.890625 -13.28125 18.9375 -11.515625 \r\nQ 21 -9.765625 23.484375 -3.21875 \r\nL 25.09375 0.875 \r\nL 2.984375 54.6875 \r\nL 12.5 54.6875 \r\nL 29.59375 11.921875 \r\nL 46.6875 54.6875 \r\nL 56.203125 54.6875 \r\nz\r\n\" id=\"DejaVuSans-121\"/>\r\n       <path d=\"M 37.109375 75.984375 \r\nL 37.109375 68.5 \r\nL 28.515625 68.5 \r\nQ 23.6875 68.5 21.796875 66.546875 \r\nQ 19.921875 64.59375 19.921875 59.515625 \r\nL 19.921875 54.6875 \r\nL 34.71875 54.6875 \r\nL 34.71875 47.703125 \r\nL 19.921875 47.703125 \r\nL 19.921875 0 \r\nL 10.890625 0 \r\nL 10.890625 47.703125 \r\nL 2.296875 47.703125 \r\nL 2.296875 54.6875 \r\nL 10.890625 54.6875 \r\nL 10.890625 58.5 \r\nQ 10.890625 67.625 15.140625 71.796875 \r\nQ 19.390625 75.984375 28.609375 75.984375 \r\nz\r\n\" id=\"DejaVuSans-102\"/>\r\n      </defs>\r\n      <g transform=\"translate(75.586902 254.356562)scale(0.1 -0.1)\">\r\n       <use xlink:href=\"#DejaVuSans-83\"/>\r\n       <use x=\"63.476562\" xlink:href=\"#DejaVuSans-121\"/>\r\n       <use x=\"122.65625\" xlink:href=\"#DejaVuSans-102\"/>\r\n       <use x=\"156.111328\" xlink:href=\"#DejaVuSans-121\"/>\r\n      </g>\r\n     </g>\r\n    </g>\r\n    <g id=\"xtick_2\">\r\n     <g id=\"line2d_2\">\r\n      <g>\r\n       <use style=\"stroke:#000000;stroke-width:0.8;\" x=\"138.829016\" xlink:href=\"#m6ac072c1e7\" y=\"239.758125\"/>\r\n      </g>\r\n     </g>\r\n     <g id=\"text_2\">\r\n      <!-- HBO -->\r\n      <defs>\r\n       <path d=\"M 9.8125 72.90625 \r\nL 19.671875 72.90625 \r\nL 19.671875 43.015625 \r\nL 55.515625 43.015625 \r\nL 55.515625 72.90625 \r\nL 65.375 72.90625 \r\nL 65.375 0 \r\nL 55.515625 0 \r\nL 55.515625 34.71875 \r\nL 19.671875 34.71875 \r\nL 19.671875 0 \r\nL 9.8125 0 \r\nz\r\n\" id=\"DejaVuSans-72\"/>\r\n       <path d=\"M 19.671875 34.8125 \r\nL 19.671875 8.109375 \r\nL 35.5 8.109375 \r\nQ 43.453125 8.109375 47.28125 11.40625 \r\nQ 51.125 14.703125 51.125 21.484375 \r\nQ 51.125 28.328125 47.28125 31.5625 \r\nQ 43.453125 34.8125 35.5 34.8125 \r\nz\r\nM 19.671875 64.796875 \r\nL 19.671875 42.828125 \r\nL 34.28125 42.828125 \r\nQ 41.5 42.828125 45.03125 45.53125 \r\nQ 48.578125 48.25 48.578125 53.8125 \r\nQ 48.578125 59.328125 45.03125 62.0625 \r\nQ 41.5 64.796875 34.28125 64.796875 \r\nz\r\nM 9.8125 72.90625 \r\nL 35.015625 72.90625 \r\nQ 46.296875 72.90625 52.390625 68.21875 \r\nQ 58.5 63.53125 58.5 54.890625 \r\nQ 58.5 48.1875 55.375 44.234375 \r\nQ 52.25 40.28125 46.1875 39.3125 \r\nQ 53.46875 37.75 57.5 32.78125 \r\nQ 61.53125 27.828125 61.53125 20.40625 \r\nQ 61.53125 10.640625 54.890625 5.3125 \r\nQ 48.25 0 35.984375 0 \r\nL 9.8125 0 \r\nz\r\n\" id=\"DejaVuSans-66\"/>\r\n       <path d=\"M 39.40625 66.21875 \r\nQ 28.65625 66.21875 22.328125 58.203125 \r\nQ 16.015625 50.203125 16.015625 36.375 \r\nQ 16.015625 22.609375 22.328125 14.59375 \r\nQ 28.65625 6.59375 39.40625 6.59375 \r\nQ 50.140625 6.59375 56.421875 14.59375 \r\nQ 62.703125 22.609375 62.703125 36.375 \r\nQ 62.703125 50.203125 56.421875 58.203125 \r\nQ 50.140625 66.21875 39.40625 66.21875 \r\nz\r\nM 39.40625 74.21875 \r\nQ 54.734375 74.21875 63.90625 63.9375 \r\nQ 73.09375 53.65625 73.09375 36.375 \r\nQ 73.09375 19.140625 63.90625 8.859375 \r\nQ 54.734375 -1.421875 39.40625 -1.421875 \r\nQ 24.03125 -1.421875 14.8125 8.828125 \r\nQ 5.609375 19.09375 5.609375 36.375 \r\nQ 5.609375 53.65625 14.8125 63.9375 \r\nQ 24.03125 74.21875 39.40625 74.21875 \r\nz\r\n\" id=\"DejaVuSans-79\"/>\r\n      </defs>\r\n      <g transform=\"translate(127.789954 254.356562)scale(0.1 -0.1)\">\r\n       <use xlink:href=\"#DejaVuSans-72\"/>\r\n       <use x=\"75.195312\" xlink:href=\"#DejaVuSans-66\"/>\r\n       <use x=\"142.048828\" xlink:href=\"#DejaVuSans-79\"/>\r\n      </g>\r\n     </g>\r\n    </g>\r\n    <g id=\"xtick_3\">\r\n     <g id=\"line2d_3\">\r\n      <g>\r\n       <use style=\"stroke:#000000;stroke-width:0.8;\" x=\"191.305505\" xlink:href=\"#m6ac072c1e7\" y=\"239.758125\"/>\r\n      </g>\r\n     </g>\r\n     <g id=\"text_3\">\r\n      <!-- FOX -->\r\n      <defs>\r\n       <path d=\"M 9.8125 72.90625 \r\nL 51.703125 72.90625 \r\nL 51.703125 64.59375 \r\nL 19.671875 64.59375 \r\nL 19.671875 43.109375 \r\nL 48.578125 43.109375 \r\nL 48.578125 34.8125 \r\nL 19.671875 34.8125 \r\nL 19.671875 0 \r\nL 9.8125 0 \r\nz\r\n\" id=\"DejaVuSans-70\"/>\r\n       <path d=\"M 6.296875 72.90625 \r\nL 16.890625 72.90625 \r\nL 35.015625 45.796875 \r\nL 53.21875 72.90625 \r\nL 63.8125 72.90625 \r\nL 40.375 37.890625 \r\nL 65.375 0 \r\nL 54.78125 0 \r\nL 34.28125 31 \r\nL 13.625 0 \r\nL 2.984375 0 \r\nL 29 38.921875 \r\nz\r\n\" id=\"DejaVuSans-88\"/>\r\n      </defs>\r\n      <g transform=\"translate(181.387537 254.356562)scale(0.1 -0.1)\">\r\n       <use xlink:href=\"#DejaVuSans-70\"/>\r\n       <use x=\"57.519531\" xlink:href=\"#DejaVuSans-79\"/>\r\n       <use x=\"129.855469\" xlink:href=\"#DejaVuSans-88\"/>\r\n      </g>\r\n     </g>\r\n    </g>\r\n    <g id=\"xtick_4\">\r\n     <g id=\"line2d_4\">\r\n      <g>\r\n       <use style=\"stroke:#000000;stroke-width:0.8;\" x=\"243.781995\" xlink:href=\"#m6ac072c1e7\" y=\"239.758125\"/>\r\n      </g>\r\n     </g>\r\n     <g id=\"text_4\">\r\n      <!-- AMC -->\r\n      <defs>\r\n       <path d=\"M 34.1875 63.1875 \r\nL 20.796875 26.90625 \r\nL 47.609375 26.90625 \r\nz\r\nM 28.609375 72.90625 \r\nL 39.796875 72.90625 \r\nL 67.578125 0 \r\nL 57.328125 0 \r\nL 50.6875 18.703125 \r\nL 17.828125 18.703125 \r\nL 11.1875 0 \r\nL 0.78125 0 \r\nz\r\n\" id=\"DejaVuSans-65\"/>\r\n       <path d=\"M 9.8125 72.90625 \r\nL 24.515625 72.90625 \r\nL 43.109375 23.296875 \r\nL 61.8125 72.90625 \r\nL 76.515625 72.90625 \r\nL 76.515625 0 \r\nL 66.890625 0 \r\nL 66.890625 64.015625 \r\nL 48.09375 14.015625 \r\nL 38.1875 14.015625 \r\nL 19.390625 64.015625 \r\nL 19.390625 0 \r\nL 9.8125 0 \r\nz\r\n\" id=\"DejaVuSans-77\"/>\r\n       <path d=\"M 64.40625 67.28125 \r\nL 64.40625 56.890625 \r\nQ 59.421875 61.53125 53.78125 63.8125 \r\nQ 48.140625 66.109375 41.796875 66.109375 \r\nQ 29.296875 66.109375 22.65625 58.46875 \r\nQ 16.015625 50.828125 16.015625 36.375 \r\nQ 16.015625 21.96875 22.65625 14.328125 \r\nQ 29.296875 6.6875 41.796875 6.6875 \r\nQ 48.140625 6.6875 53.78125 8.984375 \r\nQ 59.421875 11.28125 64.40625 15.921875 \r\nL 64.40625 5.609375 \r\nQ 59.234375 2.09375 53.4375 0.328125 \r\nQ 47.65625 -1.421875 41.21875 -1.421875 \r\nQ 24.65625 -1.421875 15.125 8.703125 \r\nQ 5.609375 18.84375 5.609375 36.375 \r\nQ 5.609375 53.953125 15.125 64.078125 \r\nQ 24.65625 74.21875 41.21875 74.21875 \r\nQ 47.75 74.21875 53.53125 72.484375 \r\nQ 59.328125 70.75 64.40625 67.28125 \r\nz\r\n\" id=\"DejaVuSans-67\"/>\r\n      </defs>\r\n      <g transform=\"translate(232.556213 254.356562)scale(0.1 -0.1)\">\r\n       <use xlink:href=\"#DejaVuSans-65\"/>\r\n       <use x=\"68.408203\" xlink:href=\"#DejaVuSans-77\"/>\r\n       <use x=\"154.6875\" xlink:href=\"#DejaVuSans-67\"/>\r\n      </g>\r\n     </g>\r\n    </g>\r\n    <g id=\"xtick_5\">\r\n     <g id=\"line2d_5\">\r\n      <g>\r\n       <use style=\"stroke:#000000;stroke-width:0.8;\" x=\"296.258484\" xlink:href=\"#m6ac072c1e7\" y=\"239.758125\"/>\r\n      </g>\r\n     </g>\r\n     <g id=\"text_5\">\r\n      <!-- NTV -->\r\n      <defs>\r\n       <path d=\"M 9.8125 72.90625 \r\nL 23.09375 72.90625 \r\nL 55.421875 11.921875 \r\nL 55.421875 72.90625 \r\nL 64.984375 72.90625 \r\nL 64.984375 0 \r\nL 51.703125 0 \r\nL 19.390625 60.984375 \r\nL 19.390625 0 \r\nL 9.8125 0 \r\nz\r\n\" id=\"DejaVuSans-78\"/>\r\n       <path d=\"M -0.296875 72.90625 \r\nL 61.375 72.90625 \r\nL 61.375 64.59375 \r\nL 35.5 64.59375 \r\nL 35.5 0 \r\nL 25.59375 0 \r\nL 25.59375 64.59375 \r\nL -0.296875 64.59375 \r\nz\r\n\" id=\"DejaVuSans-84\"/>\r\n       <path d=\"M 28.609375 0 \r\nL 0.78125 72.90625 \r\nL 11.078125 72.90625 \r\nL 34.1875 11.53125 \r\nL 57.328125 72.90625 \r\nL 67.578125 72.90625 \r\nL 39.796875 0 \r\nz\r\n\" id=\"DejaVuSans-86\"/>\r\n      </defs>\r\n      <g transform=\"translate(286.04364 254.356562)scale(0.1 -0.1)\">\r\n       <use xlink:href=\"#DejaVuSans-78\"/>\r\n       <use x=\"74.804688\" xlink:href=\"#DejaVuSans-84\"/>\r\n       <use x=\"135.888672\" xlink:href=\"#DejaVuSans-86\"/>\r\n      </g>\r\n     </g>\r\n    </g>\r\n    <g id=\"xtick_6\">\r\n     <g id=\"line2d_6\">\r\n      <g>\r\n       <use style=\"stroke:#000000;stroke-width:0.8;\" x=\"348.734973\" xlink:href=\"#m6ac072c1e7\" y=\"239.758125\"/>\r\n      </g>\r\n     </g>\r\n     <g id=\"text_6\">\r\n      <!-- Adult Swim -->\r\n      <defs>\r\n       <path d=\"M 45.40625 46.390625 \r\nL 45.40625 75.984375 \r\nL 54.390625 75.984375 \r\nL 54.390625 0 \r\nL 45.40625 0 \r\nL 45.40625 8.203125 \r\nQ 42.578125 3.328125 38.25 0.953125 \r\nQ 33.9375 -1.421875 27.875 -1.421875 \r\nQ 17.96875 -1.421875 11.734375 6.484375 \r\nQ 5.515625 14.40625 5.515625 27.296875 \r\nQ 5.515625 40.1875 11.734375 48.09375 \r\nQ 17.96875 56 27.875 56 \r\nQ 33.9375 56 38.25 53.625 \r\nQ 42.578125 51.265625 45.40625 46.390625 \r\nz\r\nM 14.796875 27.296875 \r\nQ 14.796875 17.390625 18.875 11.75 \r\nQ 22.953125 6.109375 30.078125 6.109375 \r\nQ 37.203125 6.109375 41.296875 11.75 \r\nQ 45.40625 17.390625 45.40625 27.296875 \r\nQ 45.40625 37.203125 41.296875 42.84375 \r\nQ 37.203125 48.484375 30.078125 48.484375 \r\nQ 22.953125 48.484375 18.875 42.84375 \r\nQ 14.796875 37.203125 14.796875 27.296875 \r\nz\r\n\" id=\"DejaVuSans-100\"/>\r\n       <path d=\"M 8.5 21.578125 \r\nL 8.5 54.6875 \r\nL 17.484375 54.6875 \r\nL 17.484375 21.921875 \r\nQ 17.484375 14.15625 20.5 10.265625 \r\nQ 23.53125 6.390625 29.59375 6.390625 \r\nQ 36.859375 6.390625 41.078125 11.03125 \r\nQ 45.3125 15.671875 45.3125 23.6875 \r\nL 45.3125 54.6875 \r\nL 54.296875 54.6875 \r\nL 54.296875 0 \r\nL 45.3125 0 \r\nL 45.3125 8.40625 \r\nQ 42.046875 3.421875 37.71875 1 \r\nQ 33.40625 -1.421875 27.6875 -1.421875 \r\nQ 18.265625 -1.421875 13.375 4.4375 \r\nQ 8.5 10.296875 8.5 21.578125 \r\nz\r\nM 31.109375 56 \r\nz\r\n\" id=\"DejaVuSans-117\"/>\r\n       <path d=\"M 9.421875 75.984375 \r\nL 18.40625 75.984375 \r\nL 18.40625 0 \r\nL 9.421875 0 \r\nz\r\n\" id=\"DejaVuSans-108\"/>\r\n       <path d=\"M 18.3125 70.21875 \r\nL 18.3125 54.6875 \r\nL 36.8125 54.6875 \r\nL 36.8125 47.703125 \r\nL 18.3125 47.703125 \r\nL 18.3125 18.015625 \r\nQ 18.3125 11.328125 20.140625 9.421875 \r\nQ 21.96875 7.515625 27.59375 7.515625 \r\nL 36.8125 7.515625 \r\nL 36.8125 0 \r\nL 27.59375 0 \r\nQ 17.1875 0 13.234375 3.875 \r\nQ 9.28125 7.765625 9.28125 18.015625 \r\nL 9.28125 47.703125 \r\nL 2.6875 47.703125 \r\nL 2.6875 54.6875 \r\nL 9.28125 54.6875 \r\nL 9.28125 70.21875 \r\nz\r\n\" id=\"DejaVuSans-116\"/>\r\n       <path id=\"DejaVuSans-32\"/>\r\n       <path d=\"M 4.203125 54.6875 \r\nL 13.1875 54.6875 \r\nL 24.421875 12.015625 \r\nL 35.59375 54.6875 \r\nL 46.1875 54.6875 \r\nL 57.421875 12.015625 \r\nL 68.609375 54.6875 \r\nL 77.59375 54.6875 \r\nL 63.28125 0 \r\nL 52.6875 0 \r\nL 40.921875 44.828125 \r\nL 29.109375 0 \r\nL 18.5 0 \r\nz\r\n\" id=\"DejaVuSans-119\"/>\r\n       <path d=\"M 9.421875 54.6875 \r\nL 18.40625 54.6875 \r\nL 18.40625 0 \r\nL 9.421875 0 \r\nz\r\nM 9.421875 75.984375 \r\nL 18.40625 75.984375 \r\nL 18.40625 64.59375 \r\nL 9.421875 64.59375 \r\nz\r\n\" id=\"DejaVuSans-105\"/>\r\n       <path d=\"M 52 44.1875 \r\nQ 55.375 50.25 60.0625 53.125 \r\nQ 64.75 56 71.09375 56 \r\nQ 79.640625 56 84.28125 50.015625 \r\nQ 88.921875 44.046875 88.921875 33.015625 \r\nL 88.921875 0 \r\nL 79.890625 0 \r\nL 79.890625 32.71875 \r\nQ 79.890625 40.578125 77.09375 44.375 \r\nQ 74.3125 48.1875 68.609375 48.1875 \r\nQ 61.625 48.1875 57.5625 43.546875 \r\nQ 53.515625 38.921875 53.515625 30.90625 \r\nL 53.515625 0 \r\nL 44.484375 0 \r\nL 44.484375 32.71875 \r\nQ 44.484375 40.625 41.703125 44.40625 \r\nQ 38.921875 48.1875 33.109375 48.1875 \r\nQ 26.21875 48.1875 22.15625 43.53125 \r\nQ 18.109375 38.875 18.109375 30.90625 \r\nL 18.109375 0 \r\nL 9.078125 0 \r\nL 9.078125 54.6875 \r\nL 18.109375 54.6875 \r\nL 18.109375 46.1875 \r\nQ 21.1875 51.21875 25.484375 53.609375 \r\nQ 29.78125 56 35.6875 56 \r\nQ 41.65625 56 45.828125 52.96875 \r\nQ 50 49.953125 52 44.1875 \r\nz\r\n\" id=\"DejaVuSans-109\"/>\r\n      </defs>\r\n      <g transform=\"translate(320.598254 254.356562)scale(0.1 -0.1)\">\r\n       <use xlink:href=\"#DejaVuSans-65\"/>\r\n       <use x=\"66.658203\" xlink:href=\"#DejaVuSans-100\"/>\r\n       <use x=\"130.134766\" xlink:href=\"#DejaVuSans-117\"/>\r\n       <use x=\"193.513672\" xlink:href=\"#DejaVuSans-108\"/>\r\n       <use x=\"221.296875\" xlink:href=\"#DejaVuSans-116\"/>\r\n       <use x=\"260.505859\" xlink:href=\"#DejaVuSans-32\"/>\r\n       <use x=\"292.292969\" xlink:href=\"#DejaVuSans-83\"/>\r\n       <use x=\"355.769531\" xlink:href=\"#DejaVuSans-119\"/>\r\n       <use x=\"437.556641\" xlink:href=\"#DejaVuSans-105\"/>\r\n       <use x=\"465.339844\" xlink:href=\"#DejaVuSans-109\"/>\r\n      </g>\r\n     </g>\r\n    </g>\r\n    <g id=\"text_7\">\r\n     <!-- network name -->\r\n     <defs>\r\n      <path d=\"M 54.890625 33.015625 \r\nL 54.890625 0 \r\nL 45.90625 0 \r\nL 45.90625 32.71875 \r\nQ 45.90625 40.484375 42.875 44.328125 \r\nQ 39.84375 48.1875 33.796875 48.1875 \r\nQ 26.515625 48.1875 22.3125 43.546875 \r\nQ 18.109375 38.921875 18.109375 30.90625 \r\nL 18.109375 0 \r\nL 9.078125 0 \r\nL 9.078125 54.6875 \r\nL 18.109375 54.6875 \r\nL 18.109375 46.1875 \r\nQ 21.34375 51.125 25.703125 53.5625 \r\nQ 30.078125 56 35.796875 56 \r\nQ 45.21875 56 50.046875 50.171875 \r\nQ 54.890625 44.34375 54.890625 33.015625 \r\nz\r\n\" id=\"DejaVuSans-110\"/>\r\n      <path d=\"M 56.203125 29.59375 \r\nL 56.203125 25.203125 \r\nL 14.890625 25.203125 \r\nQ 15.484375 15.921875 20.484375 11.0625 \r\nQ 25.484375 6.203125 34.421875 6.203125 \r\nQ 39.59375 6.203125 44.453125 7.46875 \r\nQ 49.3125 8.734375 54.109375 11.28125 \r\nL 54.109375 2.78125 \r\nQ 49.265625 0.734375 44.1875 -0.34375 \r\nQ 39.109375 -1.421875 33.890625 -1.421875 \r\nQ 20.796875 -1.421875 13.15625 6.1875 \r\nQ 5.515625 13.8125 5.515625 26.8125 \r\nQ 5.515625 40.234375 12.765625 48.109375 \r\nQ 20.015625 56 32.328125 56 \r\nQ 43.359375 56 49.78125 48.890625 \r\nQ 56.203125 41.796875 56.203125 29.59375 \r\nz\r\nM 47.21875 32.234375 \r\nQ 47.125 39.59375 43.09375 43.984375 \r\nQ 39.0625 48.390625 32.421875 48.390625 \r\nQ 24.90625 48.390625 20.390625 44.140625 \r\nQ 15.875 39.890625 15.1875 32.171875 \r\nz\r\n\" id=\"DejaVuSans-101\"/>\r\n      <path d=\"M 30.609375 48.390625 \r\nQ 23.390625 48.390625 19.1875 42.75 \r\nQ 14.984375 37.109375 14.984375 27.296875 \r\nQ 14.984375 17.484375 19.15625 11.84375 \r\nQ 23.34375 6.203125 30.609375 6.203125 \r\nQ 37.796875 6.203125 41.984375 11.859375 \r\nQ 46.1875 17.53125 46.1875 27.296875 \r\nQ 46.1875 37.015625 41.984375 42.703125 \r\nQ 37.796875 48.390625 30.609375 48.390625 \r\nz\r\nM 30.609375 56 \r\nQ 42.328125 56 49.015625 48.375 \r\nQ 55.71875 40.765625 55.71875 27.296875 \r\nQ 55.71875 13.875 49.015625 6.21875 \r\nQ 42.328125 -1.421875 30.609375 -1.421875 \r\nQ 18.84375 -1.421875 12.171875 6.21875 \r\nQ 5.515625 13.875 5.515625 27.296875 \r\nQ 5.515625 40.765625 12.171875 48.375 \r\nQ 18.84375 56 30.609375 56 \r\nz\r\n\" id=\"DejaVuSans-111\"/>\r\n      <path d=\"M 41.109375 46.296875 \r\nQ 39.59375 47.171875 37.8125 47.578125 \r\nQ 36.03125 48 33.890625 48 \r\nQ 26.265625 48 22.1875 43.046875 \r\nQ 18.109375 38.09375 18.109375 28.8125 \r\nL 18.109375 0 \r\nL 9.078125 0 \r\nL 9.078125 54.6875 \r\nL 18.109375 54.6875 \r\nL 18.109375 46.1875 \r\nQ 20.953125 51.171875 25.484375 53.578125 \r\nQ 30.03125 56 36.53125 56 \r\nQ 37.453125 56 38.578125 55.875 \r\nQ 39.703125 55.765625 41.0625 55.515625 \r\nz\r\n\" id=\"DejaVuSans-114\"/>\r\n      <path d=\"M 9.078125 75.984375 \r\nL 18.109375 75.984375 \r\nL 18.109375 31.109375 \r\nL 44.921875 54.6875 \r\nL 56.390625 54.6875 \r\nL 27.390625 29.109375 \r\nL 57.625 0 \r\nL 45.90625 0 \r\nL 18.109375 26.703125 \r\nL 18.109375 0 \r\nL 9.078125 0 \r\nz\r\n\" id=\"DejaVuSans-107\"/>\r\n      <path d=\"M 34.28125 27.484375 \r\nQ 23.390625 27.484375 19.1875 25 \r\nQ 14.984375 22.515625 14.984375 16.5 \r\nQ 14.984375 11.71875 18.140625 8.90625 \r\nQ 21.296875 6.109375 26.703125 6.109375 \r\nQ 34.1875 6.109375 38.703125 11.40625 \r\nQ 43.21875 16.703125 43.21875 25.484375 \r\nL 43.21875 27.484375 \r\nz\r\nM 52.203125 31.203125 \r\nL 52.203125 0 \r\nL 43.21875 0 \r\nL 43.21875 8.296875 \r\nQ 40.140625 3.328125 35.546875 0.953125 \r\nQ 30.953125 -1.421875 24.3125 -1.421875 \r\nQ 15.921875 -1.421875 10.953125 3.296875 \r\nQ 6 8.015625 6 15.921875 \r\nQ 6 25.140625 12.171875 29.828125 \r\nQ 18.359375 34.515625 30.609375 34.515625 \r\nL 43.21875 34.515625 \r\nL 43.21875 35.40625 \r\nQ 43.21875 41.609375 39.140625 45 \r\nQ 35.0625 48.390625 27.6875 48.390625 \r\nQ 23 48.390625 18.546875 47.265625 \r\nQ 14.109375 46.140625 10.015625 43.890625 \r\nL 10.015625 52.203125 \r\nQ 14.9375 54.109375 19.578125 55.046875 \r\nQ 24.21875 56 28.609375 56 \r\nQ 40.484375 56 46.34375 49.84375 \r\nQ 52.203125 43.703125 52.203125 31.203125 \r\nz\r\n\" id=\"DejaVuSans-97\"/>\r\n     </defs>\r\n     <g transform=\"translate(181.470313 268.034687)scale(0.1 -0.1)\">\r\n      <use xlink:href=\"#DejaVuSans-110\"/>\r\n      <use x=\"63.378906\" xlink:href=\"#DejaVuSans-101\"/>\r\n      <use x=\"124.902344\" xlink:href=\"#DejaVuSans-116\"/>\r\n      <use x=\"164.111328\" xlink:href=\"#DejaVuSans-119\"/>\r\n      <use x=\"245.898438\" xlink:href=\"#DejaVuSans-111\"/>\r\n      <use x=\"307.080078\" xlink:href=\"#DejaVuSans-114\"/>\r\n      <use x=\"348.193359\" xlink:href=\"#DejaVuSans-107\"/>\r\n      <use x=\"406.103516\" xlink:href=\"#DejaVuSans-32\"/>\r\n      <use x=\"437.890625\" xlink:href=\"#DejaVuSans-110\"/>\r\n      <use x=\"501.269531\" xlink:href=\"#DejaVuSans-97\"/>\r\n      <use x=\"562.548828\" xlink:href=\"#DejaVuSans-109\"/>\r\n      <use x=\"659.960938\" xlink:href=\"#DejaVuSans-101\"/>\r\n     </g>\r\n    </g>\r\n   </g>\r\n   <g id=\"matplotlib.axis_2\">\r\n    <g id=\"ytick_1\">\r\n     <g id=\"line2d_7\">\r\n      <defs>\r\n       <path d=\"M 0 0 \r\nL -3.5 0 \r\n\" id=\"m27f6b67ce8\" style=\"stroke:#000000;stroke-width:0.8;\"/>\r\n      </defs>\r\n      <g>\r\n       <use style=\"stroke:#000000;stroke-width:0.8;\" x=\"50.14375\" xlink:href=\"#m27f6b67ce8\" y=\"239.758125\"/>\r\n      </g>\r\n     </g>\r\n     <g id=\"text_8\">\r\n      <!-- 0.00 -->\r\n      <defs>\r\n       <path d=\"M 31.78125 66.40625 \r\nQ 24.171875 66.40625 20.328125 58.90625 \r\nQ 16.5 51.421875 16.5 36.375 \r\nQ 16.5 21.390625 20.328125 13.890625 \r\nQ 24.171875 6.390625 31.78125 6.390625 \r\nQ 39.453125 6.390625 43.28125 13.890625 \r\nQ 47.125 21.390625 47.125 36.375 \r\nQ 47.125 51.421875 43.28125 58.90625 \r\nQ 39.453125 66.40625 31.78125 66.40625 \r\nz\r\nM 31.78125 74.21875 \r\nQ 44.046875 74.21875 50.515625 64.515625 \r\nQ 56.984375 54.828125 56.984375 36.375 \r\nQ 56.984375 17.96875 50.515625 8.265625 \r\nQ 44.046875 -1.421875 31.78125 -1.421875 \r\nQ 19.53125 -1.421875 13.0625 8.265625 \r\nQ 6.59375 17.96875 6.59375 36.375 \r\nQ 6.59375 54.828125 13.0625 64.515625 \r\nQ 19.53125 74.21875 31.78125 74.21875 \r\nz\r\n\" id=\"DejaVuSans-48\"/>\r\n       <path d=\"M 10.6875 12.40625 \r\nL 21 12.40625 \r\nL 21 0 \r\nL 10.6875 0 \r\nz\r\n\" id=\"DejaVuSans-46\"/>\r\n      </defs>\r\n      <g transform=\"translate(20.878125 243.557344)scale(0.1 -0.1)\">\r\n       <use xlink:href=\"#DejaVuSans-48\"/>\r\n       <use x=\"63.623047\" xlink:href=\"#DejaVuSans-46\"/>\r\n       <use x=\"95.410156\" xlink:href=\"#DejaVuSans-48\"/>\r\n       <use x=\"159.033203\" xlink:href=\"#DejaVuSans-48\"/>\r\n      </g>\r\n     </g>\r\n    </g>\r\n    <g id=\"ytick_2\">\r\n     <g id=\"line2d_8\">\r\n      <g>\r\n       <use style=\"stroke:#000000;stroke-width:0.8;\" x=\"50.14375\" xlink:href=\"#m27f6b67ce8\" y=\"213.872411\"/>\r\n      </g>\r\n     </g>\r\n     <g id=\"text_9\">\r\n      <!-- 0.25 -->\r\n      <defs>\r\n       <path d=\"M 19.1875 8.296875 \r\nL 53.609375 8.296875 \r\nL 53.609375 0 \r\nL 7.328125 0 \r\nL 7.328125 8.296875 \r\nQ 12.9375 14.109375 22.625 23.890625 \r\nQ 32.328125 33.6875 34.8125 36.53125 \r\nQ 39.546875 41.84375 41.421875 45.53125 \r\nQ 43.3125 49.21875 43.3125 52.78125 \r\nQ 43.3125 58.59375 39.234375 62.25 \r\nQ 35.15625 65.921875 28.609375 65.921875 \r\nQ 23.96875 65.921875 18.8125 64.3125 \r\nQ 13.671875 62.703125 7.8125 59.421875 \r\nL 7.8125 69.390625 \r\nQ 13.765625 71.78125 18.9375 73 \r\nQ 24.125 74.21875 28.421875 74.21875 \r\nQ 39.75 74.21875 46.484375 68.546875 \r\nQ 53.21875 62.890625 53.21875 53.421875 \r\nQ 53.21875 48.921875 51.53125 44.890625 \r\nQ 49.859375 40.875 45.40625 35.40625 \r\nQ 44.1875 33.984375 37.640625 27.21875 \r\nQ 31.109375 20.453125 19.1875 8.296875 \r\nz\r\n\" id=\"DejaVuSans-50\"/>\r\n       <path d=\"M 10.796875 72.90625 \r\nL 49.515625 72.90625 \r\nL 49.515625 64.59375 \r\nL 19.828125 64.59375 \r\nL 19.828125 46.734375 \r\nQ 21.96875 47.46875 24.109375 47.828125 \r\nQ 26.265625 48.1875 28.421875 48.1875 \r\nQ 40.625 48.1875 47.75 41.5 \r\nQ 54.890625 34.8125 54.890625 23.390625 \r\nQ 54.890625 11.625 47.5625 5.09375 \r\nQ 40.234375 -1.421875 26.90625 -1.421875 \r\nQ 22.3125 -1.421875 17.546875 -0.640625 \r\nQ 12.796875 0.140625 7.71875 1.703125 \r\nL 7.71875 11.625 \r\nQ 12.109375 9.234375 16.796875 8.0625 \r\nQ 21.484375 6.890625 26.703125 6.890625 \r\nQ 35.15625 6.890625 40.078125 11.328125 \r\nQ 45.015625 15.765625 45.015625 23.390625 \r\nQ 45.015625 31 40.078125 35.4375 \r\nQ 35.15625 39.890625 26.703125 39.890625 \r\nQ 22.75 39.890625 18.8125 39.015625 \r\nQ 14.890625 38.140625 10.796875 36.28125 \r\nz\r\n\" id=\"DejaVuSans-53\"/>\r\n      </defs>\r\n      <g transform=\"translate(20.878125 217.671629)scale(0.1 -0.1)\">\r\n       <use xlink:href=\"#DejaVuSans-48\"/>\r\n       <use x=\"63.623047\" xlink:href=\"#DejaVuSans-46\"/>\r\n       <use x=\"95.410156\" xlink:href=\"#DejaVuSans-50\"/>\r\n       <use x=\"159.033203\" xlink:href=\"#DejaVuSans-53\"/>\r\n      </g>\r\n     </g>\r\n    </g>\r\n    <g id=\"ytick_3\">\r\n     <g id=\"line2d_9\">\r\n      <g>\r\n       <use style=\"stroke:#000000;stroke-width:0.8;\" x=\"50.14375\" xlink:href=\"#m27f6b67ce8\" y=\"187.986696\"/>\r\n      </g>\r\n     </g>\r\n     <g id=\"text_10\">\r\n      <!-- 0.50 -->\r\n      <g transform=\"translate(20.878125 191.785915)scale(0.1 -0.1)\">\r\n       <use xlink:href=\"#DejaVuSans-48\"/>\r\n       <use x=\"63.623047\" xlink:href=\"#DejaVuSans-46\"/>\r\n       <use x=\"95.410156\" xlink:href=\"#DejaVuSans-53\"/>\r\n       <use x=\"159.033203\" xlink:href=\"#DejaVuSans-48\"/>\r\n      </g>\r\n     </g>\r\n    </g>\r\n    <g id=\"ytick_4\">\r\n     <g id=\"line2d_10\">\r\n      <g>\r\n       <use style=\"stroke:#000000;stroke-width:0.8;\" x=\"50.14375\" xlink:href=\"#m27f6b67ce8\" y=\"162.100982\"/>\r\n      </g>\r\n     </g>\r\n     <g id=\"text_11\">\r\n      <!-- 0.75 -->\r\n      <defs>\r\n       <path d=\"M 8.203125 72.90625 \r\nL 55.078125 72.90625 \r\nL 55.078125 68.703125 \r\nL 28.609375 0 \r\nL 18.3125 0 \r\nL 43.21875 64.59375 \r\nL 8.203125 64.59375 \r\nz\r\n\" id=\"DejaVuSans-55\"/>\r\n      </defs>\r\n      <g transform=\"translate(20.878125 165.900201)scale(0.1 -0.1)\">\r\n       <use xlink:href=\"#DejaVuSans-48\"/>\r\n       <use x=\"63.623047\" xlink:href=\"#DejaVuSans-46\"/>\r\n       <use x=\"95.410156\" xlink:href=\"#DejaVuSans-55\"/>\r\n       <use x=\"159.033203\" xlink:href=\"#DejaVuSans-53\"/>\r\n      </g>\r\n     </g>\r\n    </g>\r\n    <g id=\"ytick_5\">\r\n     <g id=\"line2d_11\">\r\n      <g>\r\n       <use style=\"stroke:#000000;stroke-width:0.8;\" x=\"50.14375\" xlink:href=\"#m27f6b67ce8\" y=\"136.215268\"/>\r\n      </g>\r\n     </g>\r\n     <g id=\"text_12\">\r\n      <!-- 1.00 -->\r\n      <defs>\r\n       <path d=\"M 12.40625 8.296875 \r\nL 28.515625 8.296875 \r\nL 28.515625 63.921875 \r\nL 10.984375 60.40625 \r\nL 10.984375 69.390625 \r\nL 28.421875 72.90625 \r\nL 38.28125 72.90625 \r\nL 38.28125 8.296875 \r\nL 54.390625 8.296875 \r\nL 54.390625 0 \r\nL 12.40625 0 \r\nz\r\n\" id=\"DejaVuSans-49\"/>\r\n      </defs>\r\n      <g transform=\"translate(20.878125 140.014487)scale(0.1 -0.1)\">\r\n       <use xlink:href=\"#DejaVuSans-49\"/>\r\n       <use x=\"63.623047\" xlink:href=\"#DejaVuSans-46\"/>\r\n       <use x=\"95.410156\" xlink:href=\"#DejaVuSans-48\"/>\r\n       <use x=\"159.033203\" xlink:href=\"#DejaVuSans-48\"/>\r\n      </g>\r\n     </g>\r\n    </g>\r\n    <g id=\"ytick_6\">\r\n     <g id=\"line2d_12\">\r\n      <g>\r\n       <use style=\"stroke:#000000;stroke-width:0.8;\" x=\"50.14375\" xlink:href=\"#m27f6b67ce8\" y=\"110.329554\"/>\r\n      </g>\r\n     </g>\r\n     <g id=\"text_13\">\r\n      <!-- 1.25 -->\r\n      <g transform=\"translate(20.878125 114.128772)scale(0.1 -0.1)\">\r\n       <use xlink:href=\"#DejaVuSans-49\"/>\r\n       <use x=\"63.623047\" xlink:href=\"#DejaVuSans-46\"/>\r\n       <use x=\"95.410156\" xlink:href=\"#DejaVuSans-50\"/>\r\n       <use x=\"159.033203\" xlink:href=\"#DejaVuSans-53\"/>\r\n      </g>\r\n     </g>\r\n    </g>\r\n    <g id=\"ytick_7\">\r\n     <g id=\"line2d_13\">\r\n      <g>\r\n       <use style=\"stroke:#000000;stroke-width:0.8;\" x=\"50.14375\" xlink:href=\"#m27f6b67ce8\" y=\"84.443839\"/>\r\n      </g>\r\n     </g>\r\n     <g id=\"text_14\">\r\n      <!-- 1.50 -->\r\n      <g transform=\"translate(20.878125 88.243058)scale(0.1 -0.1)\">\r\n       <use xlink:href=\"#DejaVuSans-49\"/>\r\n       <use x=\"63.623047\" xlink:href=\"#DejaVuSans-46\"/>\r\n       <use x=\"95.410156\" xlink:href=\"#DejaVuSans-53\"/>\r\n       <use x=\"159.033203\" xlink:href=\"#DejaVuSans-48\"/>\r\n      </g>\r\n     </g>\r\n    </g>\r\n    <g id=\"ytick_8\">\r\n     <g id=\"line2d_14\">\r\n      <g>\r\n       <use style=\"stroke:#000000;stroke-width:0.8;\" x=\"50.14375\" xlink:href=\"#m27f6b67ce8\" y=\"58.558125\"/>\r\n      </g>\r\n     </g>\r\n     <g id=\"text_15\">\r\n      <!-- 1.75 -->\r\n      <g transform=\"translate(20.878125 62.357344)scale(0.1 -0.1)\">\r\n       <use xlink:href=\"#DejaVuSans-49\"/>\r\n       <use x=\"63.623047\" xlink:href=\"#DejaVuSans-46\"/>\r\n       <use x=\"95.410156\" xlink:href=\"#DejaVuSans-55\"/>\r\n       <use x=\"159.033203\" xlink:href=\"#DejaVuSans-53\"/>\r\n      </g>\r\n     </g>\r\n    </g>\r\n    <g id=\"ytick_9\">\r\n     <g id=\"line2d_15\">\r\n      <g>\r\n       <use style=\"stroke:#000000;stroke-width:0.8;\" x=\"50.14375\" xlink:href=\"#m27f6b67ce8\" y=\"32.672411\"/>\r\n      </g>\r\n     </g>\r\n     <g id=\"text_16\">\r\n      <!-- 2.00 -->\r\n      <g transform=\"translate(20.878125 36.471629)scale(0.1 -0.1)\">\r\n       <use xlink:href=\"#DejaVuSans-50\"/>\r\n       <use x=\"63.623047\" xlink:href=\"#DejaVuSans-46\"/>\r\n       <use x=\"95.410156\" xlink:href=\"#DejaVuSans-48\"/>\r\n       <use x=\"159.033203\" xlink:href=\"#DejaVuSans-48\"/>\r\n      </g>\r\n     </g>\r\n    </g>\r\n    <g id=\"text_17\">\r\n     <!-- no of shows with rating greater than 9 -->\r\n     <defs>\r\n      <path d=\"M 44.28125 53.078125 \r\nL 44.28125 44.578125 \r\nQ 40.484375 46.53125 36.375 47.5 \r\nQ 32.28125 48.484375 27.875 48.484375 \r\nQ 21.1875 48.484375 17.84375 46.4375 \r\nQ 14.5 44.390625 14.5 40.28125 \r\nQ 14.5 37.15625 16.890625 35.375 \r\nQ 19.28125 33.59375 26.515625 31.984375 \r\nL 29.59375 31.296875 \r\nQ 39.15625 29.25 43.1875 25.515625 \r\nQ 47.21875 21.78125 47.21875 15.09375 \r\nQ 47.21875 7.46875 41.1875 3.015625 \r\nQ 35.15625 -1.421875 24.609375 -1.421875 \r\nQ 20.21875 -1.421875 15.453125 -0.5625 \r\nQ 10.6875 0.296875 5.421875 2 \r\nL 5.421875 11.28125 \r\nQ 10.40625 8.6875 15.234375 7.390625 \r\nQ 20.0625 6.109375 24.8125 6.109375 \r\nQ 31.15625 6.109375 34.5625 8.28125 \r\nQ 37.984375 10.453125 37.984375 14.40625 \r\nQ 37.984375 18.0625 35.515625 20.015625 \r\nQ 33.0625 21.96875 24.703125 23.78125 \r\nL 21.578125 24.515625 \r\nQ 13.234375 26.265625 9.515625 29.90625 \r\nQ 5.8125 33.546875 5.8125 39.890625 \r\nQ 5.8125 47.609375 11.28125 51.796875 \r\nQ 16.75 56 26.8125 56 \r\nQ 31.78125 56 36.171875 55.265625 \r\nQ 40.578125 54.546875 44.28125 53.078125 \r\nz\r\n\" id=\"DejaVuSans-115\"/>\r\n      <path d=\"M 54.890625 33.015625 \r\nL 54.890625 0 \r\nL 45.90625 0 \r\nL 45.90625 32.71875 \r\nQ 45.90625 40.484375 42.875 44.328125 \r\nQ 39.84375 48.1875 33.796875 48.1875 \r\nQ 26.515625 48.1875 22.3125 43.546875 \r\nQ 18.109375 38.921875 18.109375 30.90625 \r\nL 18.109375 0 \r\nL 9.078125 0 \r\nL 9.078125 75.984375 \r\nL 18.109375 75.984375 \r\nL 18.109375 46.1875 \r\nQ 21.34375 51.125 25.703125 53.5625 \r\nQ 30.078125 56 35.796875 56 \r\nQ 45.21875 56 50.046875 50.171875 \r\nQ 54.890625 44.34375 54.890625 33.015625 \r\nz\r\n\" id=\"DejaVuSans-104\"/>\r\n      <path d=\"M 45.40625 27.984375 \r\nQ 45.40625 37.75 41.375 43.109375 \r\nQ 37.359375 48.484375 30.078125 48.484375 \r\nQ 22.859375 48.484375 18.828125 43.109375 \r\nQ 14.796875 37.75 14.796875 27.984375 \r\nQ 14.796875 18.265625 18.828125 12.890625 \r\nQ 22.859375 7.515625 30.078125 7.515625 \r\nQ 37.359375 7.515625 41.375 12.890625 \r\nQ 45.40625 18.265625 45.40625 27.984375 \r\nz\r\nM 54.390625 6.78125 \r\nQ 54.390625 -7.171875 48.1875 -13.984375 \r\nQ 42 -20.796875 29.203125 -20.796875 \r\nQ 24.46875 -20.796875 20.265625 -20.09375 \r\nQ 16.0625 -19.390625 12.109375 -17.921875 \r\nL 12.109375 -9.1875 \r\nQ 16.0625 -11.328125 19.921875 -12.34375 \r\nQ 23.78125 -13.375 27.78125 -13.375 \r\nQ 36.625 -13.375 41.015625 -8.765625 \r\nQ 45.40625 -4.15625 45.40625 5.171875 \r\nL 45.40625 9.625 \r\nQ 42.625 4.78125 38.28125 2.390625 \r\nQ 33.9375 0 27.875 0 \r\nQ 17.828125 0 11.671875 7.65625 \r\nQ 5.515625 15.328125 5.515625 27.984375 \r\nQ 5.515625 40.671875 11.671875 48.328125 \r\nQ 17.828125 56 27.875 56 \r\nQ 33.9375 56 38.28125 53.609375 \r\nQ 42.625 51.21875 45.40625 46.390625 \r\nL 45.40625 54.6875 \r\nL 54.390625 54.6875 \r\nz\r\n\" id=\"DejaVuSans-103\"/>\r\n      <path d=\"M 10.984375 1.515625 \r\nL 10.984375 10.5 \r\nQ 14.703125 8.734375 18.5 7.8125 \r\nQ 22.3125 6.890625 25.984375 6.890625 \r\nQ 35.75 6.890625 40.890625 13.453125 \r\nQ 46.046875 20.015625 46.78125 33.40625 \r\nQ 43.953125 29.203125 39.59375 26.953125 \r\nQ 35.25 24.703125 29.984375 24.703125 \r\nQ 19.046875 24.703125 12.671875 31.3125 \r\nQ 6.296875 37.9375 6.296875 49.421875 \r\nQ 6.296875 60.640625 12.9375 67.421875 \r\nQ 19.578125 74.21875 30.609375 74.21875 \r\nQ 43.265625 74.21875 49.921875 64.515625 \r\nQ 56.59375 54.828125 56.59375 36.375 \r\nQ 56.59375 19.140625 48.40625 8.859375 \r\nQ 40.234375 -1.421875 26.421875 -1.421875 \r\nQ 22.703125 -1.421875 18.890625 -0.6875 \r\nQ 15.09375 0.046875 10.984375 1.515625 \r\nz\r\nM 30.609375 32.421875 \r\nQ 37.25 32.421875 41.125 36.953125 \r\nQ 45.015625 41.5 45.015625 49.421875 \r\nQ 45.015625 57.28125 41.125 61.84375 \r\nQ 37.25 66.40625 30.609375 66.40625 \r\nQ 23.96875 66.40625 20.09375 61.84375 \r\nQ 16.21875 57.28125 16.21875 49.421875 \r\nQ 16.21875 41.5 20.09375 36.953125 \r\nQ 23.96875 32.421875 30.609375 32.421875 \r\nz\r\n\" id=\"DejaVuSans-57\"/>\r\n     </defs>\r\n     <g transform=\"translate(14.798438 227.0475)rotate(-90)scale(0.1 -0.1)\">\r\n      <use xlink:href=\"#DejaVuSans-110\"/>\r\n      <use x=\"63.378906\" xlink:href=\"#DejaVuSans-111\"/>\r\n      <use x=\"124.560547\" xlink:href=\"#DejaVuSans-32\"/>\r\n      <use x=\"156.347656\" xlink:href=\"#DejaVuSans-111\"/>\r\n      <use x=\"217.529297\" xlink:href=\"#DejaVuSans-102\"/>\r\n      <use x=\"252.734375\" xlink:href=\"#DejaVuSans-32\"/>\r\n      <use x=\"284.521484\" xlink:href=\"#DejaVuSans-115\"/>\r\n      <use x=\"336.621094\" xlink:href=\"#DejaVuSans-104\"/>\r\n      <use x=\"400\" xlink:href=\"#DejaVuSans-111\"/>\r\n      <use x=\"461.181641\" xlink:href=\"#DejaVuSans-119\"/>\r\n      <use x=\"542.96875\" xlink:href=\"#DejaVuSans-115\"/>\r\n      <use x=\"595.068359\" xlink:href=\"#DejaVuSans-32\"/>\r\n      <use x=\"626.855469\" xlink:href=\"#DejaVuSans-119\"/>\r\n      <use x=\"708.642578\" xlink:href=\"#DejaVuSans-105\"/>\r\n      <use x=\"736.425781\" xlink:href=\"#DejaVuSans-116\"/>\r\n      <use x=\"775.634766\" xlink:href=\"#DejaVuSans-104\"/>\r\n      <use x=\"839.013672\" xlink:href=\"#DejaVuSans-32\"/>\r\n      <use x=\"870.800781\" xlink:href=\"#DejaVuSans-114\"/>\r\n      <use x=\"911.914062\" xlink:href=\"#DejaVuSans-97\"/>\r\n      <use x=\"973.193359\" xlink:href=\"#DejaVuSans-116\"/>\r\n      <use x=\"1012.402344\" xlink:href=\"#DejaVuSans-105\"/>\r\n      <use x=\"1040.185547\" xlink:href=\"#DejaVuSans-110\"/>\r\n      <use x=\"1103.564453\" xlink:href=\"#DejaVuSans-103\"/>\r\n      <use x=\"1167.041016\" xlink:href=\"#DejaVuSans-32\"/>\r\n      <use x=\"1198.828125\" xlink:href=\"#DejaVuSans-103\"/>\r\n      <use x=\"1262.304688\" xlink:href=\"#DejaVuSans-114\"/>\r\n      <use x=\"1301.167969\" xlink:href=\"#DejaVuSans-101\"/>\r\n      <use x=\"1362.691406\" xlink:href=\"#DejaVuSans-97\"/>\r\n      <use x=\"1423.970703\" xlink:href=\"#DejaVuSans-116\"/>\r\n      <use x=\"1463.179688\" xlink:href=\"#DejaVuSans-101\"/>\r\n      <use x=\"1524.703125\" xlink:href=\"#DejaVuSans-114\"/>\r\n      <use x=\"1565.816406\" xlink:href=\"#DejaVuSans-32\"/>\r\n      <use x=\"1597.603516\" xlink:href=\"#DejaVuSans-116\"/>\r\n      <use x=\"1636.8125\" xlink:href=\"#DejaVuSans-104\"/>\r\n      <use x=\"1700.191406\" xlink:href=\"#DejaVuSans-97\"/>\r\n      <use x=\"1761.470703\" xlink:href=\"#DejaVuSans-110\"/>\r\n      <use x=\"1824.849609\" xlink:href=\"#DejaVuSans-32\"/>\r\n      <use x=\"1856.636719\" xlink:href=\"#DejaVuSans-57\"/>\r\n     </g>\r\n    </g>\r\n   </g>\r\n   <g id=\"patch_9\">\r\n    <path d=\"M 50.14375 239.758125 \r\nL 50.14375 22.318125 \r\n\" style=\"fill:none;stroke:#000000;stroke-linecap:square;stroke-linejoin:miter;stroke-width:0.8;\"/>\r\n   </g>\r\n   <g id=\"patch_10\">\r\n    <path d=\"M 384.94375 239.758125 \r\nL 384.94375 22.318125 \r\n\" style=\"fill:none;stroke:#000000;stroke-linecap:square;stroke-linejoin:miter;stroke-width:0.8;\"/>\r\n   </g>\r\n   <g id=\"patch_11\">\r\n    <path d=\"M 50.14375 239.758125 \r\nL 384.94375 239.758125 \r\n\" style=\"fill:none;stroke:#000000;stroke-linecap:square;stroke-linejoin:miter;stroke-width:0.8;\"/>\r\n   </g>\r\n   <g id=\"patch_12\">\r\n    <path d=\"M 50.14375 22.318125 \r\nL 384.94375 22.318125 \r\n\" style=\"fill:none;stroke:#000000;stroke-linecap:square;stroke-linejoin:miter;stroke-width:0.8;\"/>\r\n   </g>\r\n   <g id=\"text_18\">\r\n    <!-- Visual representation -->\r\n    <defs>\r\n     <path d=\"M 18.109375 8.203125 \r\nL 18.109375 -20.796875 \r\nL 9.078125 -20.796875 \r\nL 9.078125 54.6875 \r\nL 18.109375 54.6875 \r\nL 18.109375 46.390625 \r\nQ 20.953125 51.265625 25.265625 53.625 \r\nQ 29.59375 56 35.59375 56 \r\nQ 45.5625 56 51.78125 48.09375 \r\nQ 58.015625 40.1875 58.015625 27.296875 \r\nQ 58.015625 14.40625 51.78125 6.484375 \r\nQ 45.5625 -1.421875 35.59375 -1.421875 \r\nQ 29.59375 -1.421875 25.265625 0.953125 \r\nQ 20.953125 3.328125 18.109375 8.203125 \r\nz\r\nM 48.6875 27.296875 \r\nQ 48.6875 37.203125 44.609375 42.84375 \r\nQ 40.53125 48.484375 33.40625 48.484375 \r\nQ 26.265625 48.484375 22.1875 42.84375 \r\nQ 18.109375 37.203125 18.109375 27.296875 \r\nQ 18.109375 17.390625 22.1875 11.75 \r\nQ 26.265625 6.109375 33.40625 6.109375 \r\nQ 40.53125 6.109375 44.609375 11.75 \r\nQ 48.6875 17.390625 48.6875 27.296875 \r\nz\r\n\" id=\"DejaVuSans-112\"/>\r\n    </defs>\r\n    <g transform=\"translate(153.730938 16.318125)scale(0.12 -0.12)\">\r\n     <use xlink:href=\"#DejaVuSans-86\"/>\r\n     <use x=\"66.158203\" xlink:href=\"#DejaVuSans-105\"/>\r\n     <use x=\"93.941406\" xlink:href=\"#DejaVuSans-115\"/>\r\n     <use x=\"146.041016\" xlink:href=\"#DejaVuSans-117\"/>\r\n     <use x=\"209.419922\" xlink:href=\"#DejaVuSans-97\"/>\r\n     <use x=\"270.699219\" xlink:href=\"#DejaVuSans-108\"/>\r\n     <use x=\"298.482422\" xlink:href=\"#DejaVuSans-32\"/>\r\n     <use x=\"330.269531\" xlink:href=\"#DejaVuSans-114\"/>\r\n     <use x=\"369.132812\" xlink:href=\"#DejaVuSans-101\"/>\r\n     <use x=\"430.65625\" xlink:href=\"#DejaVuSans-112\"/>\r\n     <use x=\"494.132812\" xlink:href=\"#DejaVuSans-114\"/>\r\n     <use x=\"532.996094\" xlink:href=\"#DejaVuSans-101\"/>\r\n     <use x=\"594.519531\" xlink:href=\"#DejaVuSans-115\"/>\r\n     <use x=\"646.619141\" xlink:href=\"#DejaVuSans-101\"/>\r\n     <use x=\"708.142578\" xlink:href=\"#DejaVuSans-110\"/>\r\n     <use x=\"771.521484\" xlink:href=\"#DejaVuSans-116\"/>\r\n     <use x=\"810.730469\" xlink:href=\"#DejaVuSans-97\"/>\r\n     <use x=\"872.009766\" xlink:href=\"#DejaVuSans-116\"/>\r\n     <use x=\"911.21875\" xlink:href=\"#DejaVuSans-105\"/>\r\n     <use x=\"939.001953\" xlink:href=\"#DejaVuSans-111\"/>\r\n     <use x=\"1000.183594\" xlink:href=\"#DejaVuSans-110\"/>\r\n    </g>\r\n   </g>\r\n   <g id=\"legend_1\">\r\n    <g id=\"patch_13\">\r\n     <path d=\"M 373.94375 35.318125 \r\nL 377.94375 35.318125 \r\nQ 379.94375 35.318125 379.94375 33.318125 \r\nL 379.94375 29.318125 \r\nQ 379.94375 27.318125 377.94375 27.318125 \r\nL 373.94375 27.318125 \r\nQ 371.94375 27.318125 371.94375 29.318125 \r\nL 371.94375 33.318125 \r\nQ 371.94375 35.318125 373.94375 35.318125 \r\nz\r\n\" style=\"fill:#ffffff;opacity:0.8;stroke:#cccccc;stroke-linejoin:miter;\"/>\r\n    </g>\r\n   </g>\r\n  </g>\r\n </g>\r\n <defs>\r\n  <clipPath id=\"pb1881812a2\">\r\n   <rect height=\"217.44\" width=\"334.8\" x=\"50.14375\" y=\"22.318125\"/>\r\n  </clipPath>\r\n </defs>\r\n</svg>\r\n",
      "image/png": "[encoded data removed]"
     },
     "metadata": {
      "needs_background": "light"
     }
    }
   ],
   "source": [
    "plt.bar(x, y)\n",
    "plt.xlabel('network name')\n",
    "plt.ylabel('no of shows with rating greater than 9')\n",
    "plt.title('Visual representation')\n",
    "plt.legend()\n",
    "plt.show()"
   ]
  },
  {
   "cell_type": "code",
   "execution_count": null,
   "metadata": {},
   "outputs": [],
   "source": []
  },
  {
   "cell_type": "code",
   "execution_count": null,
   "metadata": {},
   "outputs": [],
   "source": []
  }
 ],
 "metadata": {
  "kernelspec": {
   "display_name": "Python 3.8.0 64-bit",
   "language": "python",
   "name": "python_defaultSpec_1594303284306"
  },
  "language_info": {
   "codemirror_mode": {
    "name": "ipython",
    "version": 3
   },
   "file_extension": ".py",
   "mimetype": "text/x-python",
   "name": "python",
   "nbconvert_exporter": "python",
   "pygments_lexer": "ipython3",
   "version": "3.7.3"
  }
 },
 "nbformat": 4,
 "nbformat_minor": 2
}